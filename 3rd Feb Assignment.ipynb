{
 "cells": [
  {
   "cell_type": "markdown",
   "id": "dac268d4-9bcc-4fec-944e-20eaf1218724",
   "metadata": {},
   "source": [
    "## Answer 1"
   ]
  },
  {
   "cell_type": "markdown",
   "id": "12c1381f-9dc4-4224-982b-4d3ac6d9deeb",
   "metadata": {},
   "source": [
    "'def' keyword is used to create a function."
   ]
  },
  {
   "cell_type": "code",
   "execution_count": 2,
   "id": "c1c685b9-8508-494b-9ebe-00895368044b",
   "metadata": {},
   "outputs": [
    {
     "name": "stdout",
     "output_type": "stream",
     "text": [
      "1 3 5 7 9 11 13 15 17 19 21 23 "
     ]
    }
   ],
   "source": [
    "def odd():\n",
    "    for i in range(25):\n",
    "        if i%2!=0:\n",
    "            print(i,end=\" \")\n",
    "odd()"
   ]
  },
  {
   "cell_type": "markdown",
   "id": "b82ffe06-89bf-4ada-85dd-04f5226e4c60",
   "metadata": {},
   "source": [
    "## Answer 2"
   ]
  },
  {
   "cell_type": "markdown",
   "id": "814c9805-e8e8-49ef-91c3-6a82f837c7b0",
   "metadata": {},
   "source": [
    "By using args as arguments we can pass as much as attributes we want. If we do not know how many keyword arguments that will be passed into our function, we use *kwargs. This way the function will receive a dictionary of arguments."
   ]
  },
  {
   "cell_type": "code",
   "execution_count": 4,
   "id": "c8940781-f459-4396-8fe9-47286e8f7a4a",
   "metadata": {},
   "outputs": [],
   "source": [
    "def argu(*args):\n",
    "    return args"
   ]
  },
  {
   "cell_type": "code",
   "execution_count": 7,
   "id": "a964a424-da63-4319-815d-21b945cb9643",
   "metadata": {},
   "outputs": [
    {
     "data": {
      "text/plain": [
       "(1, 2, 3, (1, 2, 3), {1, 2, 3}, [1, 2, 3])"
      ]
     },
     "execution_count": 7,
     "metadata": {},
     "output_type": "execute_result"
    }
   ],
   "source": [
    "argu(1,2,3,(1,2,3),{1,2,3},[1,2,3])"
   ]
  },
  {
   "cell_type": "code",
   "execution_count": 8,
   "id": "f86c6265-701e-4a8e-a13a-13a4e8388bf7",
   "metadata": {},
   "outputs": [],
   "source": [
    "def kwargu(**kwargs):\n",
    "    return kwargs"
   ]
  },
  {
   "cell_type": "code",
   "execution_count": 11,
   "id": "e3b0a0eb-e96c-4a73-b913-3514cf3ffca5",
   "metadata": {},
   "outputs": [
    {
     "data": {
      "text/plain": [
       "{'a': 1, 'b': (1, 2, 3), 'c': {1, 2, 3}, 'd': [1, 2, 3]}"
      ]
     },
     "execution_count": 11,
     "metadata": {},
     "output_type": "execute_result"
    }
   ],
   "source": [
    "kwargu(a=1,b=(1,2,3),c={1,2,3},d=[1,2,3])"
   ]
  },
  {
   "cell_type": "markdown",
   "id": "4d10424f-8550-479c-8e0a-bafbd3ca34e9",
   "metadata": {},
   "source": [
    "## Answer 3"
   ]
  },
  {
   "cell_type": "markdown",
   "id": "faa6678c-f9f9-4b40-9a6d-cb8af7eb8050",
   "metadata": {},
   "source": [
    "An iterator is an object that contains a countable number of values and that can be iterated upon, meaning that you can traverse through all the values.Lists, tuples, dictionaries, and sets are all iterable objects. They are iterable containers which you can get an iterator from.\n",
    "\n",
    "The iterator object is initialized using the iter() method. It uses the next() method for iteration."
   ]
  },
  {
   "cell_type": "code",
   "execution_count": 12,
   "id": "4b30c822-d9d0-4725-8c6a-d20be6d2863f",
   "metadata": {},
   "outputs": [
    {
     "name": "stdout",
     "output_type": "stream",
     "text": [
      "2\n",
      "4\n",
      "6\n",
      "8\n",
      "10\n"
     ]
    }
   ],
   "source": [
    "lst=[2,4,6,8,10,12,14,16,18,20]\n",
    "\n",
    "a=iter(lst)\n",
    "\n",
    "i=0\n",
    "while i<5:\n",
    "    print(next(a))\n",
    "    i=i+1"
   ]
  },
  {
   "cell_type": "markdown",
   "id": "10ba5b97-3c11-48ea-88e4-e30a39592940",
   "metadata": {},
   "source": [
    "## Answer 4"
   ]
  },
  {
   "cell_type": "markdown",
   "id": "ff06266d-b5e5-41b5-8bac-837fe0b22f2b",
   "metadata": {},
   "source": [
    "A generator is a function that returns an iterator that produces a sequence of values when iterated over. Generators are useful when we want to produce a large sequence of values, but we don't want to store all of them in memory at once."
   ]
  },
  {
   "cell_type": "code",
   "execution_count": 21,
   "id": "3bad332d-a812-4f2f-8aec-b15c241ef4b3",
   "metadata": {},
   "outputs": [
    {
     "data": {
      "text/plain": [
       "[0, 1, 1, 2, 3, 5, 8, 13, 21, 34]"
      ]
     },
     "execution_count": 21,
     "metadata": {},
     "output_type": "execute_result"
    }
   ],
   "source": [
    "# creating generator function for fibonacci series using while loop\n",
    "def n(m):\n",
    "    i,l,c=0,1,0\n",
    "    while c<m:\n",
    "        yield i\n",
    "        i,l=l,l+i    \n",
    "        c+=1\n",
    "k=n(10)\n",
    "[j for j in k]"
   ]
  },
  {
   "cell_type": "markdown",
   "id": "dc48895b-4ddd-4c25-9919-5f71f597173c",
   "metadata": {},
   "source": [
    "## Answer 5"
   ]
  },
  {
   "cell_type": "code",
   "execution_count": 23,
   "id": "7ab51564-eccb-4476-8877-48f86cdd0ea5",
   "metadata": {},
   "outputs": [
    {
     "name": "stdout",
     "output_type": "stream",
     "text": [
      "2 3 5 7 11 13 17 19 23 29 31 37 41 43 47 53 59 61 67 71 "
     ]
    }
   ],
   "source": [
    "# Generator function for prime numbers less than 1000(considering 0,1 are not prime numbers)\n",
    "def prime(n):\n",
    "    for i in range(2,n):\n",
    "        for j in range(2,int(i**.5+1)):\n",
    "            if i%j==0:\n",
    "                break\n",
    "        else:\n",
    "            yield i\n",
    "p=prime(1000)\n",
    "\n",
    "# printing first 20 prime numbers using next() func\n",
    "c=0\n",
    "while c<20:\n",
    "    print(next(p),end=\" \")\n",
    "    c+=1"
   ]
  },
  {
   "cell_type": "code",
   "execution_count": null,
   "id": "f9c6c3ec-f8a4-49f1-b63e-e3892cd54dfd",
   "metadata": {},
   "outputs": [],
   "source": []
  },
  {
   "cell_type": "code",
   "execution_count": null,
   "id": "a5703045-da2e-46e6-8281-9ed995e7aecb",
   "metadata": {},
   "outputs": [],
   "source": []
  },
  {
   "cell_type": "code",
   "execution_count": null,
   "id": "3c2b4fc3-8084-47e0-8801-16725a048ec9",
   "metadata": {},
   "outputs": [],
   "source": []
  }
 ],
 "metadata": {
  "kernelspec": {
   "display_name": "Python 3 (ipykernel)",
   "language": "python",
   "name": "python3"
  },
  "language_info": {
   "codemirror_mode": {
    "name": "ipython",
    "version": 3
   },
   "file_extension": ".py",
   "mimetype": "text/x-python",
   "name": "python",
   "nbconvert_exporter": "python",
   "pygments_lexer": "ipython3",
   "version": "3.10.8"
  }
 },
 "nbformat": 4,
 "nbformat_minor": 5
}
