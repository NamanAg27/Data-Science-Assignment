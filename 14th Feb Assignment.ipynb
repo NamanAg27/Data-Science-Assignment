{
 "cells": [
  {
   "cell_type": "markdown",
   "id": "f02d79a1-6d03-435f-9536-5b0821f0b02f",
   "metadata": {},
   "source": [
    "### Q1. What is multithreading in python? why is it used? Name the module used to handle threads in python."
   ]
  },
  {
   "cell_type": "markdown",
   "id": "e1e82059-f6fc-491f-a454-714200933b47",
   "metadata": {},
   "source": [
    "Multithreading in Python is a way of achieving concurrency in a Python program. Concurrency is the ability to execute multiple tasks or processes at the same time. Multithreading allows multiple threads to run concurrently within a single process, sharing the same memory space.\n",
    "\n",
    "In Python, you can create threads using the built-in threading module. This module provides a Thread class that you can subclass to create new threads. Each thread runs in its own separate execution context, but they share the same memory space.\n",
    "\n",
    "Multithreading can be useful for performing time-consuming tasks in the background while the main thread continues to respond to user input or perform other tasks\n",
    "\n",
    "Here are some common use cases for multithreading in Python:\n",
    "\n",
    "__1. Parallel processing:__ Multithreading can be used to perform CPU-intensive tasks in parallel, such as numerical computations or data processing, to improve the performance of the program.\n",
    "\n",
    "__2. Networking:__ Multithreading can be used to handle multiple network connections or requests simultaneously, allowing the program to respond to multiple clients or requests concurrently.\n",
    "\n",
    "__3. User interface responsiveness__: Multithreading can be used to keep the user interface responsive while performing time-consuming tasks in the background, such as loading data from a file or processing a large dataset.\n",
    "\n",
    "__4. Multimedia processing:__ Multithreading can be used to process multimedia data such as audio or video in real-time, allowing the program to respond to user input while performing the processing."
   ]
  },
  {
   "cell_type": "markdown",
   "id": "f54fcc05-ee08-4868-8d6a-a52813e4ca94",
   "metadata": {},
   "source": [
    "### Q2. Why threading module used? Write the use of the following functions."
   ]
  },
  {
   "cell_type": "markdown",
   "id": "acd168f0-72ee-4f32-ac13-c3f8dfe3afc1",
   "metadata": {},
   "source": [
    "The threading module provides a rich set of classes and functions for creating and managing threads, including the Thread class for creating new threads, synchronization primitives such as locks and semaphores, and a Queue class for passing messages between threads. By using the threading module, you can create more robust and efficient programs that can take advantage of the power of concurrency."
   ]
  },
  {
   "cell_type": "markdown",
   "id": "3eae7d1c-afb5-49ef-9dd5-89c9d21d72ad",
   "metadata": {},
   "source": [
    "__activ_count( )__"
   ]
  },
  {
   "cell_type": "markdown",
   "id": "6798510e-5867-449a-809b-63f454fdd9ea",
   "metadata": {},
   "source": [
    "In Python's threading module, the active_count() method is used to return the number of active threads in the current process.\n",
    "\n",
    "When called on the threading module, the active_count() method returns the number of active Thread objects in the current Python interpreter. This can be useful for monitoring the status of running threads and debugging issues related to concurrency."
   ]
  },
  {
   "cell_type": "code",
   "execution_count": 17,
   "id": "b1f6e98d-c244-4ac5-adce-b7a1603b96a0",
   "metadata": {},
   "outputs": [],
   "source": [
    "import threading\n",
    "\n",
    "def sip():\n",
    "    print(\"sipping\")\n",
    "\n",
    "t1= threading.Thread( target = sip)\n",
    "\n",
    "t1.start()\n",
    "\n",
    "print(threading.active_count())"
   ]
  },
  {
   "cell_type": "markdown",
   "id": "7c820038-529f-45c0-9387-2201c1017e44",
   "metadata": {},
   "source": [
    "__current_thread( )__"
   ]
  },
  {
   "cell_type": "markdown",
   "id": "c0d359e5-a000-42f7-bb24-3f9a3566a8cf",
   "metadata": {},
   "source": [
    "In Python's threading module, the current_thread() method is used to return a reference to the currently executing thread object.\n",
    "\n",
    "When called on the threading module, the current_thread() method returns a reference to the Thread object representing the thread that is currently running the Python interpreter. This can be useful for identifying the current thread in a multi-threaded program and for passing the current thread object to other threads or functions."
   ]
  },
  {
   "cell_type": "code",
   "execution_count": 19,
   "id": "5c863fea-411a-45c6-a716-ec89bfb3b2f1",
   "metadata": {},
   "outputs": [
    {
     "name": "stdout",
     "output_type": "stream",
     "text": [
      "Current thread: WorkerThread\n",
      "Current thread: MainThread\n"
     ]
    }
   ],
   "source": [
    "import threading\n",
    "\n",
    "def worker():\n",
    "    print('Current thread:', threading.current_thread().name)\n",
    "\n",
    "t1 = threading.Thread(target=worker, name='WorkerThread')\n",
    "t1.start()\n",
    "\n",
    "print('Current thread:', threading.current_thread().name)\n"
   ]
  },
  {
   "cell_type": "markdown",
   "id": "0d402566-6c55-4d36-b468-d32cb67eee85",
   "metadata": {},
   "source": [
    "__enumerate( )__"
   ]
  },
  {
   "cell_type": "markdown",
   "id": "d49ac458-d0d9-440a-8a50-4389c6b4a1de",
   "metadata": {},
   "source": [
    "The enumerate() function in Python's threading module works similarly to the built-in enumerate() function, but it returns a list of all currently active Thread objects.\n",
    "\n",
    "The threading.enumerate() method returns a list of all active Thread objects in the current program. Each Thread object represents a separate thread of execution that has been created by the program."
   ]
  },
  {
   "cell_type": "code",
   "execution_count": 26,
   "id": "a6b1ff3b-a945-4eb7-9d1a-f3b0e512dfbc",
   "metadata": {},
   "outputs": [
    {
     "name": "stdout",
     "output_type": "stream",
     "text": [
      "name of fun 0\n",
      "name of fun 1\n",
      "name of fun 2\n",
      "threading enumerate [<_MainThread(MainThread, started 140611717027648)>, <Thread(IOPub, started daemon 140611646498368)>, <Heartbeat(Heartbeat, started daemon 140611638105664)>, <Thread(Thread-3 (_watch_pipe_fd), started daemon 140611612927552)>, <Thread(Thread-4 (_watch_pipe_fd), started daemon 140611604534848)>, <ControlThread(Control, started daemon 140611256579648)>, <HistorySavingThread(IPythonHistorySavingThread, started 140611248186944)>, <ParentPollerUnix(Thread-2, started daemon 140611239794240)>]\n"
     ]
    }
   ],
   "source": [
    "def name(x):\n",
    "    print(\"name of fun %d\" %x )\n",
    "    \n",
    "thread3=[threading.Thread(target = name, args= (i,)) for i in range(3)]\n",
    "\n",
    "for t in thread3:\n",
    "    t.start()\n",
    "    \n",
    "print(\"threading enumerate\", threading.enumerate())"
   ]
  },
  {
   "cell_type": "markdown",
   "id": "3a09498b-11b1-4925-ac45-0e8ed8d137c8",
   "metadata": {},
   "source": [
    "### Q3. Explain the following functions"
   ]
  },
  {
   "cell_type": "markdown",
   "id": "4c31cf5b-089b-4797-b4fc-4c270c498154",
   "metadata": {},
   "source": [
    "__run( )__"
   ]
  },
  {
   "cell_type": "markdown",
   "id": "f25d6faa-5609-4b5e-bd45-47ddffce1654",
   "metadata": {},
   "source": [
    "In Python's threading module, the run() method is the entry point for a new thread of execution. When you create a new thread using the Thread class, you can specify a target function that the thread should execute. If you don't specify a target function, the default behavior is to call the run() method of the Thread class."
   ]
  },
  {
   "cell_type": "code",
   "execution_count": 37,
   "id": "ae1b1793-dccc-4a16-b87b-f62eece220d5",
   "metadata": {},
   "outputs": [
    {
     "name": "stdout",
     "output_type": "stream",
     "text": [
      "hello\n",
      "hello\n",
      "hello\n",
      "hello\n",
      "hello\n"
     ]
    }
   ],
   "source": [
    "from threading import *\n",
    "from time import sleep\n",
    "\n",
    "class hello(Thread):\n",
    "    def run(self):\n",
    "        for i in range(5):\n",
    "            print(\"hello\")\n",
    "            sleep(1)\n",
    "            \n",
    "\n",
    "thread4= hello()\n",
    "\n",
    "thread4.start()"
   ]
  },
  {
   "cell_type": "markdown",
   "id": "59f65b77-d3ef-400f-be15-6181d1c34985",
   "metadata": {},
   "source": [
    "__start( )__"
   ]
  },
  {
   "cell_type": "markdown",
   "id": "c21891a1-0a8e-4b3f-9639-0e6c580f8b80",
   "metadata": {},
   "source": [
    "In Python's threading module, the start() method is used to begin the execution of a new thread. When you create a new thread using the Thread class, you can call the start() method to launch the thread."
   ]
  },
  {
   "cell_type": "code",
   "execution_count": 46,
   "id": "6a514e4d-2225-4b96-b4ad-c06fb566b680",
   "metadata": {},
   "outputs": [
    {
     "name": "stdout",
     "output_type": "stream",
     "text": [
      "Thread-51 (file)\n"
     ]
    }
   ],
   "source": [
    "def file():\n",
    "    print(threading.current_thread().name)\n",
    "    \n",
    "thread5=threading.Thread(target = file)\n",
    "thread5.start()"
   ]
  },
  {
   "cell_type": "markdown",
   "id": "67667ec9-168b-4d48-aba2-38b46a39e0dd",
   "metadata": {},
   "source": [
    "__join( )__"
   ]
  },
  {
   "cell_type": "markdown",
   "id": "e70d50ef-05da-4e6c-bbe7-1702075fad04",
   "metadata": {},
   "source": [
    "In Python's threading module, the join() method is used to wait for a thread to complete its execution. When you call join() on a thread object, the calling thread (i.e., the thread that is executing the join() call) will block until the thread being joined completes."
   ]
  },
  {
   "cell_type": "code",
   "execution_count": 61,
   "id": "201de618-d2e5-4b35-acb7-2d9310a25320",
   "metadata": {},
   "outputs": [
    {
     "name": "stdout",
     "output_type": "stream",
     "text": [
      "start\n",
      "stop\n",
      "exit\n"
     ]
    }
   ],
   "source": [
    "def hi():\n",
    "    \n",
    "    print(\"start\")\n",
    "    sleep(3)\n",
    "    print(\"stop\")\n",
    "    \n",
    "thread6= threading.Thread( target= hi)\n",
    "\n",
    "thread6.start()\n",
    "\n",
    "thread6.join()\n",
    "\n",
    "\n",
    "print(\"exit\")"
   ]
  },
  {
   "cell_type": "markdown",
   "id": "8fbfa556-5f84-41bd-8f11-9389595e771b",
   "metadata": {},
   "source": [
    "__isAlive( )__"
   ]
  },
  {
   "cell_type": "markdown",
   "id": "0d612320-2443-4a9b-9158-7b19a3cc15f1",
   "metadata": {},
   "source": [
    "The isAlive() method in Python's threading module is used to check whether a thread is currently executing or not. It returns a boolean value indicating whether the thread is alive or not."
   ]
  },
  {
   "cell_type": "code",
   "execution_count": 66,
   "id": "a778a938-6249-4ca8-829a-c7b4174c891f",
   "metadata": {},
   "outputs": [
    {
     "name": "stdout",
     "output_type": "stream",
     "text": [
      "star\n",
      "It's running\n",
      "It's running\n",
      "It's running\n",
      "stop\n",
      "exit\n"
     ]
    }
   ],
   "source": [
    "def check():\n",
    "    print(\"star\")\n",
    "    sleep(3)\n",
    "    print(\"stop\")\n",
    "    \n",
    "thrd=threading.Thread(target = check)\n",
    "thrd.start()\n",
    "\n",
    "while thrd.is_alive():\n",
    "    print(\"It's running\")\n",
    "    sleep(1.1)\n",
    "    \n",
    "print(\"exit\")\n",
    "\n",
    "    "
   ]
  },
  {
   "cell_type": "markdown",
   "id": "e94073ab-76a7-4622-9dfe-490fe9b30eb5",
   "metadata": {},
   "source": [
    "### Q4. Write a python program to create two threads. Thread one must print the list of squares and thread two must print the list of cubes."
   ]
  },
  {
   "cell_type": "code",
   "execution_count": 88,
   "id": "dba913ec-e207-44ca-b47d-aa2a34112648",
   "metadata": {},
   "outputs": [
    {
     "name": "stdout",
     "output_type": "stream",
     "text": [
      "square of 1 is 1 \n",
      "cube of 1 is 1 \n",
      "square of 2 is 4 \n",
      "cube of 2 is 8 \n",
      "square of 3 is 9 \n",
      "cube of 3 is 27 \n",
      "square of 4 is 16 \n",
      "cube of 4 is 64 \n",
      "square of 5 is 25 \n",
      "cube of 5 is 125 \n"
     ]
    }
   ],
   "source": [
    "import time\n",
    "def sq(i):\n",
    "    for m in range(1,i+1):\n",
    "        k=m*m\n",
    "        print(\"square of %d is %d \" %(m,k))\n",
    "        time.sleep(1)\n",
    "      \n",
    "def cu(j):\n",
    "    for n in range (1,j+1):\n",
    "        l=n**3\n",
    "        print(\"cube of %d is %d \" % (n,l))\n",
    "        time.sleep(1.1)\n",
    "    \n",
    "t1= threading.Thread(target = sq , args = (5,))\n",
    "t2= threading.Thread(target = cu , args = (5,))\n",
    "\n",
    "\n",
    "t1.start()\n",
    "t2.start()\n"
   ]
  },
  {
   "cell_type": "markdown",
   "id": "f90989a5-e086-4e0a-b8b7-1899ec4aea00",
   "metadata": {},
   "source": [
    "### Q5. State advantages and disadvantages of multithreading."
   ]
  },
  {
   "cell_type": "markdown",
   "id": "c6d654d5-7f44-4ed4-9a69-8b820fd3c0ee",
   "metadata": {},
   "source": [
    "Following are some of the common advantages of multithreading:\n",
    "\n",
    "1. Enhanced performance by decreased development time\n",
    "2. Simplified and streamlined program coding\n",
    "3. Improvised GUI responsiveness\n",
    "4. Simultaneous and parallelized occurrence of tasks\n",
    "5. Better use of cache storage by utilization of resources\n",
    "6. Decreased cost of maintenance\n",
    "7. Better use of CPU resource\n",
    "\n",
    "There are few disadvantages of multithreading too:\n",
    "\n",
    "1. Complex debugging and testing processes\n",
    "2. Overhead switching of context\n",
    "3. Increased potential for deadlock occurrence\n",
    "4. Increased difficulty level in writing a program\n",
    "5. Unpredictable results"
   ]
  },
  {
   "cell_type": "markdown",
   "id": "61410d3a-bdb4-4ea3-a4b1-a2357de3a346",
   "metadata": {},
   "source": [
    "### Q6. Explain deadlocks and race conditions."
   ]
  },
  {
   "cell_type": "markdown",
   "id": "c5e93333-200a-4763-93e2-0671735ecc6a",
   "metadata": {},
   "source": [
    "__deadlocks__"
   ]
  },
  {
   "cell_type": "markdown",
   "id": "fc16dc33-49ca-4140-bffa-35c37db9a776",
   "metadata": {},
   "source": [
    "A deadlock is a concurrency failure mode where a thread or threads wait for a condition that never occurs.\n",
    "\n",
    "The result is that the deadlock threads are unable to progress and the program is stuck or frozen and must be terminated forcefully.\n",
    "\n",
    "There are many ways in which you may encounter a deadlock in your concurrent program.\n",
    "\n",
    "Deadlocks are not developed intentionally, instead, they are an unexpected side effect or bug in concurrency programming."
   ]
  },
  {
   "cell_type": "markdown",
   "id": "01a37574-6eca-45c7-ad2f-6f1c5d7c763e",
   "metadata": {},
   "source": [
    "__race condition__"
   ]
  },
  {
   "cell_type": "markdown",
   "id": "3d9c229a-ce56-40b8-aa2f-36d4751344a8",
   "metadata": {},
   "source": [
    "Its a bug generated when you do multi-processing. It occurs because two or more threads tries to update the same variable and results into unreliable output.\n",
    "\n",
    "Concurrent accesses to shared resource can lead to race condition."
   ]
  },
  {
   "cell_type": "code",
   "execution_count": null,
   "id": "96ce3f9c-6f28-41e3-887e-91fcb4cebe34",
   "metadata": {},
   "outputs": [],
   "source": []
  },
  {
   "cell_type": "code",
   "execution_count": null,
   "id": "a7fa6039-5cc6-4816-9789-d46a369b208a",
   "metadata": {},
   "outputs": [],
   "source": []
  },
  {
   "cell_type": "code",
   "execution_count": null,
   "id": "1205a789-2f90-4826-91ea-e4788264932b",
   "metadata": {},
   "outputs": [],
   "source": []
  }
 ],
 "metadata": {
  "kernelspec": {
   "display_name": "Python 3 (ipykernel)",
   "language": "python",
   "name": "python3"
  },
  "language_info": {
   "codemirror_mode": {
    "name": "ipython",
    "version": 3
   },
   "file_extension": ".py",
   "mimetype": "text/x-python",
   "name": "python",
   "nbconvert_exporter": "python",
   "pygments_lexer": "ipython3",
   "version": "3.10.8"
  }
 },
 "nbformat": 4,
 "nbformat_minor": 5
}
