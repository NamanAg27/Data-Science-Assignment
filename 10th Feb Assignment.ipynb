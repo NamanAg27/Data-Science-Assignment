{
 "cells": [
  {
   "cell_type": "markdown",
   "id": "923dfcd4-c971-4f7c-9742-9ed4a11fb8d2",
   "metadata": {},
   "source": [
    "## Answer 1"
   ]
  },
  {
   "cell_type": "markdown",
   "id": "7294ebee-c18c-464c-9950-c982e4fb2f63",
   "metadata": {},
   "source": [
    "open() is used to open a files. \n",
    "\n",
    "1. Read Only (‘r’) : Open text file for reading. The handle is positioned at the beginning of the file. If the file does not exists, raises the I/O error. This is also the default mode in which a file is opened.\n",
    "2. Read and Write (‘r+’): Open the file for reading and writing. The handle is positioned at the beginning of the file. Raises I/O error if the file does not exist.\n",
    "3. Write Only (‘w’) : Open the file for writing. For the existing files, the data is truncated and over-written. The handle is positioned at the beginning of the file. Creates the file if the file does not exist.\n",
    "4. Write and Read (‘w+’) : Open the file for reading and writing. For an existing file, data is truncated and over-written. The handle is positioned at the beginning of the file.\n",
    "5. Append Only (‘a’): Open the file for writing. The file is created if it does not exist. The handle is positioned at the end of the file. The data being written will be inserted at the end, after the existing data.\n",
    "6. Append and Read (‘a+’) : Open the file for reading and writing. The file is created if it does not exist. The handle is positioned at the end of the file. The data being written will be inserted at the end, after the existing data."
   ]
  },
  {
   "cell_type": "markdown",
   "id": "2f4381b7-a600-48a7-811c-1390752ea96c",
   "metadata": {},
   "source": [
    "## Answer 2"
   ]
  },
  {
   "cell_type": "markdown",
   "id": "786fd8f0-c9f1-42eb-893a-b360f4b18b3a",
   "metadata": {},
   "source": [
    "The close() method closes an open file. You should always close your files, in some cases, due to buffering, changes made to a file may not show until you close the file."
   ]
  },
  {
   "cell_type": "markdown",
   "id": "6d497d93-5c35-4b1a-9eb5-315b669ba52a",
   "metadata": {},
   "source": [
    "Important to close a file Because files are limited resources managed by the operating system, making sure files are closed after use will protect against hard-to-debug issues like running out of file handles or experiencing corrupted data."
   ]
  },
  {
   "cell_type": "markdown",
   "id": "a93beef8-b64e-438d-99a2-c7afa8c22e5f",
   "metadata": {},
   "source": [
    "## Answer 3"
   ]
  },
  {
   "cell_type": "code",
   "execution_count": 2,
   "id": "54a8f950-f0a7-4719-b834-45cc06f0d753",
   "metadata": {},
   "outputs": [
    {
     "data": {
      "text/plain": [
       "33"
      ]
     },
     "execution_count": 2,
     "metadata": {},
     "output_type": "execute_result"
    }
   ],
   "source": [
    "file= open(\"ds.txt\",\"w\")\n",
    "file.write(\"I want to become a Data Scientist\")"
   ]
  },
  {
   "cell_type": "code",
   "execution_count": 3,
   "id": "86a5fd5f-4e84-4409-ab11-2c05f1216196",
   "metadata": {},
   "outputs": [],
   "source": [
    "file.close()"
   ]
  },
  {
   "cell_type": "code",
   "execution_count": 4,
   "id": "90a5f304-04ca-43ba-b1b3-b9e9dfae1565",
   "metadata": {},
   "outputs": [
    {
     "data": {
      "text/plain": [
       "'I want to become a Data Scientist'"
      ]
     },
     "execution_count": 4,
     "metadata": {},
     "output_type": "execute_result"
    }
   ],
   "source": [
    "file= open(\"ds.txt\",\"r\")\n",
    "file.read()"
   ]
  },
  {
   "cell_type": "markdown",
   "id": "db4afe84-c42f-4ec3-92ec-b0f327cb9069",
   "metadata": {},
   "source": [
    "## Answer 4"
   ]
  },
  {
   "cell_type": "code",
   "execution_count": 16,
   "id": "54ce36d1-e7ee-4122-a7e8-1ee5331383c6",
   "metadata": {},
   "outputs": [
    {
     "data": {
      "text/plain": [
       "'I want to become a Data Scientist'"
      ]
     },
     "execution_count": 16,
     "metadata": {},
     "output_type": "execute_result"
    }
   ],
   "source": [
    "## The read() method returns the specified number of bytes from the file. Default is -1 which means the whole file.\n",
    "\n",
    "file= open(\"ds.txt\",\"r\")\n",
    "file.read()"
   ]
  },
  {
   "cell_type": "code",
   "execution_count": 19,
   "id": "ebc52c99-e20d-4da7-a1d3-fbc920cee798",
   "metadata": {},
   "outputs": [
    {
     "data": {
      "text/plain": [
       "'I want'"
      ]
     },
     "execution_count": 19,
     "metadata": {},
     "output_type": "execute_result"
    }
   ],
   "source": [
    "## The readline() method returns one line from the file. You can also specified how many bytes from the line to return, by using the size parameter.\n",
    "\n",
    "file= open(\"ds.txt\",\"r\")\n",
    "file.readline(6)"
   ]
  },
  {
   "cell_type": "code",
   "execution_count": 23,
   "id": "372c5b76-99dc-498b-82cb-bab150c7202f",
   "metadata": {},
   "outputs": [
    {
     "data": {
      "text/plain": [
       "['I want to become a Data Scientist']"
      ]
     },
     "execution_count": 23,
     "metadata": {},
     "output_type": "execute_result"
    }
   ],
   "source": [
    "'''\n",
    "The readlines() method returns a list containing each line in the file as a list item.\n",
    " Use the hint parameter to limit the number of lines returned. If the total number of bytes returned exceeds the specified number,\n",
    "no more lines are returned.\n",
    "'''\n",
    "\n",
    "file= open(\"ds.txt\",\"r\")\n",
    "file.readlines(7)"
   ]
  },
  {
   "cell_type": "markdown",
   "id": "ae403cba-8e8c-4811-9c9a-2f98463eadca",
   "metadata": {},
   "source": [
    "## Answer 5"
   ]
  },
  {
   "cell_type": "markdown",
   "id": "16e0ab97-5674-41d8-b8cb-abd329564904",
   "metadata": {},
   "source": [
    "The with statement works with the open() function to open a file. Unlike open() where you have to close the file with the close() method, the with statement closes the file for you without you telling it to"
   ]
  },
  {
   "cell_type": "markdown",
   "id": "88bef675-5462-4b08-baa2-8c483a90a49e",
   "metadata": {},
   "source": [
    "### Advantage\n",
    "Using with means that the file will be closed as soon as you leave the block. This is beneficial because closing a file is something that can easily be forgotten and ties up resources that you no longer need."
   ]
  },
  {
   "cell_type": "markdown",
   "id": "fdb20622-2d96-456b-b6ff-0e3f3c307c07",
   "metadata": {},
   "source": [
    "## Answer 6"
   ]
  },
  {
   "cell_type": "markdown",
   "id": "b89849e5-b45d-483b-af9a-8ea709bddd00",
   "metadata": {},
   "source": [
    "### write()\n",
    "\n",
    "The write() method writes a specified text to the file.\n",
    "\n",
    "Where the specified text will be inserted depends on the file mode and stream position.\n",
    "\n",
    "\"a\":  The text will be inserted at the current file stream position, default at the end of the file.\n",
    "\n",
    "\"w\": The file will be emptied before the text will be inserted at the current file stream position, default 0.\n",
    "\n"
   ]
  },
  {
   "cell_type": "code",
   "execution_count": 44,
   "id": "79ce97b4-2860-48bd-a23e-f01a5814639e",
   "metadata": {},
   "outputs": [],
   "source": [
    "## Example of write().\n",
    "\n",
    "file= open(\"ds.txt\",\"w\")\n",
    "file.write(\"I want to become a Data Scientist\")\n",
    "file.close()"
   ]
  },
  {
   "cell_type": "markdown",
   "id": "7ac29d35-1b88-4698-9989-802f175bc198",
   "metadata": {},
   "source": [
    "### writeline()\n",
    "The writelines() method writes the items of a list to the file.\n",
    "\n",
    "Where the texts will be inserted depends on the file mode and stream position."
   ]
  },
  {
   "cell_type": "code",
   "execution_count": 45,
   "id": "28e230c0-5aa9-4670-8f0d-9df390c2b69f",
   "metadata": {},
   "outputs": [],
   "source": [
    "## Examples of writelines().\n",
    "\n",
    "file = open(\"ds2.txt\", \"w\")\n",
    "file.writelines([\"I want to become a Data Scientist\",\"So I learn with PWSkills\"])\n",
    "file.close()"
   ]
  },
  {
   "cell_type": "code",
   "execution_count": 46,
   "id": "179a7220-974f-4364-975d-b9d44bbb8895",
   "metadata": {},
   "outputs": [
    {
     "data": {
      "text/plain": [
       "'I want to become a Data ScientistSo I learn with PWSkills'"
      ]
     },
     "execution_count": 46,
     "metadata": {},
     "output_type": "execute_result"
    }
   ],
   "source": [
    "file = open(\"ds2.txt\", \"r\")\n",
    "file.read()"
   ]
  },
  {
   "cell_type": "code",
   "execution_count": null,
   "id": "2a642c28-7c21-435a-9153-116520ff2d0c",
   "metadata": {},
   "outputs": [],
   "source": []
  },
  {
   "cell_type": "code",
   "execution_count": null,
   "id": "8ae12641-d05b-401d-a6d5-454f0d79b4b1",
   "metadata": {},
   "outputs": [],
   "source": []
  }
 ],
 "metadata": {
  "kernelspec": {
   "display_name": "Python 3 (ipykernel)",
   "language": "python",
   "name": "python3"
  },
  "language_info": {
   "codemirror_mode": {
    "name": "ipython",
    "version": 3
   },
   "file_extension": ".py",
   "mimetype": "text/x-python",
   "name": "python",
   "nbconvert_exporter": "python",
   "pygments_lexer": "ipython3",
   "version": "3.10.8"
  }
 },
 "nbformat": 4,
 "nbformat_minor": 5
}
