{
 "cells": [
  {
   "cell_type": "markdown",
   "id": "bdafec40-c9f6-43f4-aca2-13bbe29f0b62",
   "metadata": {},
   "source": [
    "## Answer 1"
   ]
  },
  {
   "cell_type": "code",
   "execution_count": 93,
   "id": "e36b1be5-aa68-43d9-9ca4-f5d951c02ad6",
   "metadata": {},
   "outputs": [
    {
     "name": "stdout",
     "output_type": "stream",
     "text": [
      "4134711838987085478833841242112000\n"
     ]
    }
   ],
   "source": [
    "lst = [1,2,3,4, [44,55,66, True], False, (34,56,78,89,34), {1,2,3,3,2,1}, {1:34, \"key2\": [55, 67, 78, 89], 4: (45,\n",
    "22, 61, 34)}, [56, 'data science'], 'Machine Learning']\n",
    "\n",
    "\n",
    "def prod(lst):\n",
    "    flat=[]\n",
    "    for fir in lst:\n",
    "        if type(fir)==list or type(fir)==tuple or type(fir)==set:\n",
    "            for sec in fir:\n",
    "                flat.append(sec)\n",
    "        elif type(fir)==dict:\n",
    "            for d in fir.keys():\n",
    "                flat.append(d)\n",
    "            for i in fir.values():\n",
    "                if type(i)==int:\n",
    "                    flat.append(i)\n",
    "            for c in fir.values():\n",
    "                if type(c)==tuple or type(c)==list:\n",
    "                    for t in c:\n",
    "                        if type(t)==int:\n",
    "                            flat.append(t)\n",
    "        else:\n",
    "            flat.append(fir)\n",
    "    return flat\n",
    "lst2=prod(lst)\n",
    "a=1\n",
    "for b in lst2:\n",
    "    if type(b)==int:\n",
    "        a=a*b\n",
    "print(a)             "
   ]
  },
  {
   "cell_type": "markdown",
   "id": "5a5a4194-4c33-43ac-b0d1-d9f131d15027",
   "metadata": {},
   "source": [
    "## Answer 2"
   ]
  },
  {
   "cell_type": "code",
   "execution_count": 129,
   "id": "b8fd2a59-6163-4792-a372-dde9674bc38c",
   "metadata": {},
   "outputs": [
    {
     "name": "stdout",
     "output_type": "stream",
     "text": [
      "r$dzmg$gl$yvxlnv$z$wzgz$hxrvmgrhg\n"
     ]
    }
   ],
   "source": [
    "def encrypt(n):\n",
    "    keys = [' ','a','b','c','d','e','f','g','h','i','j','k','l','m','n','o','p','q','r','s','t','u','v','w','x','y','z','$']\n",
    "    value = keys.copy()\n",
    "    value.reverse()\n",
    "    res = {keys[i]: value[i] for i in range(len(keys))}\n",
    "    new=[]\n",
    "    for i in n:\n",
    "        for k,v in res.items():\n",
    "            if i == k:             \n",
    "                new.append(v)    \n",
    "    result=''.join(new)\n",
    "    print(result)\n",
    "  \n",
    "    s=\"I want to become a Data Scientist.\"\n",
    "encrypt(list(s.lower()))"
   ]
  },
  {
   "cell_type": "code",
   "execution_count": null,
   "id": "8441b9f7-a984-49c1-a5d0-46717c43e8bf",
   "metadata": {},
   "outputs": [],
   "source": []
  }
 ],
 "metadata": {
  "kernelspec": {
   "display_name": "Python 3 (ipykernel)",
   "language": "python",
   "name": "python3"
  },
  "language_info": {
   "codemirror_mode": {
    "name": "ipython",
    "version": 3
   },
   "file_extension": ".py",
   "mimetype": "text/x-python",
   "name": "python",
   "nbconvert_exporter": "python",
   "pygments_lexer": "ipython3",
   "version": "3.10.8"
  }
 },
 "nbformat": 4,
 "nbformat_minor": 5
}
