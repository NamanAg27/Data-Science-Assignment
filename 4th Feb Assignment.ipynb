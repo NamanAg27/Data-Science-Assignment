{
 "cells": [
  {
   "cell_type": "markdown",
   "id": "fac48d85-7855-4eda-8e81-78567bd035b7",
   "metadata": {},
   "source": [
    "## Answer 1"
   ]
  },
  {
   "cell_type": "code",
   "execution_count": 7,
   "id": "a4a96121-ec2d-43fb-9cd3-536ac5a3eab0",
   "metadata": {},
   "outputs": [
    {
     "name": "stdout",
     "output_type": "stream",
     "text": [
      "[('Virat Kohli', 24936), ('Jack Kallis', 25534), ('Ricky Ponting', 27483), ('Sachin Tendulkar', 34357)]\n"
     ]
    }
   ],
   "source": [
    "lst=[('Sachin Tendulkar', 34357), ('Ricky Ponting', 27483), ('Jack Kallis', 25534), ('Virat Kohli', 24936)]\n",
    "\n",
    "lst.sort(key = lambda x : x[1])\n",
    "\n",
    "print(lst)"
   ]
  },
  {
   "cell_type": "markdown",
   "id": "0eb8b70d-34e6-4569-8110-77122847e352",
   "metadata": {},
   "source": [
    "## Answer 2"
   ]
  },
  {
   "cell_type": "code",
   "execution_count": 28,
   "id": "360fcecc-8593-42d0-8111-c065caba448d",
   "metadata": {},
   "outputs": [
    {
     "data": {
      "text/plain": [
       "[1, 4, 9, 16, 25, 36, 49, 64, 81, 100]"
      ]
     },
     "execution_count": 28,
     "metadata": {},
     "output_type": "execute_result"
    }
   ],
   "source": [
    "lst1=[1, 2, 3, 4, 5, 6, 7, 8, 9, 10]\n",
    "list(map(lambda x: x*x, lst1))"
   ]
  },
  {
   "cell_type": "markdown",
   "id": "b94e1659-866d-46b7-b903-bebb180dfb56",
   "metadata": {},
   "source": [
    "## Answer 3"
   ]
  },
  {
   "cell_type": "code",
   "execution_count": 38,
   "id": "9dd6869c-acaa-4d37-b5e3-2f8fa2eb7fc4",
   "metadata": {},
   "outputs": [
    {
     "data": {
      "text/plain": [
       "('1', '2', '3', '4', '5', '6', '7', '8', '9', '10')"
      ]
     },
     "execution_count": 38,
     "metadata": {},
     "output_type": "execute_result"
    }
   ],
   "source": [
    "lst2 = [1, 2, 3, 4, 5, 6, 7, 8, 9, 10]\n",
    "\n",
    "##Expected output: ('1', '2', '3', '4', '5', '6', '7', '8', '9', '10')\n",
    "\n",
    "tuple(map(lambda x : str(x) ,lst2))"
   ]
  },
  {
   "cell_type": "markdown",
   "id": "0f080c57-b410-42b6-b786-c5330204aef1",
   "metadata": {},
   "source": [
    "## Answer 4"
   ]
  },
  {
   "cell_type": "code",
   "execution_count": 44,
   "id": "6ecebaab-f4e3-46ec-840a-d140d63c400a",
   "metadata": {},
   "outputs": [
    {
     "data": {
      "text/plain": [
       "325"
      ]
     },
     "execution_count": 44,
     "metadata": {},
     "output_type": "execute_result"
    }
   ],
   "source": [
    "from functools import reduce\n",
    "lst3=range(26)\n",
    "\n",
    "reduce(lambda x,y : x+y,lst3)"
   ]
  },
  {
   "cell_type": "markdown",
   "id": "198b1982-c66e-4a79-afa5-c6e7176bf89d",
   "metadata": {},
   "source": [
    "## Answer 5"
   ]
  },
  {
   "cell_type": "code",
   "execution_count": 49,
   "id": "628c6f5b-4428-44ff-8231-e031e16617ec",
   "metadata": {},
   "outputs": [
    {
     "data": {
      "text/plain": [
       "[2, 3, 6, 9, 27, 60, 90, 120, 46]"
      ]
     },
     "execution_count": 49,
     "metadata": {},
     "output_type": "execute_result"
    }
   ],
   "source": [
    "lst4=[2, 3, 6, 9, 27, 60, 90, 120, 55, 46]\n",
    "\n",
    "list(filter(lambda x: x if x%2==0 else x%3==0,lst4))"
   ]
  },
  {
   "cell_type": "markdown",
   "id": "4d484537-aba9-46a5-8f78-cbfb0981c290",
   "metadata": {},
   "source": [
    "## Answer 6"
   ]
  },
  {
   "cell_type": "code",
   "execution_count": 64,
   "id": "44c8b838-9a71-4d0f-9d3e-5e7f55925266",
   "metadata": {},
   "outputs": [
    {
     "data": {
      "text/plain": [
       "['php', 'aba', 'radar', 'level']"
      ]
     },
     "execution_count": 64,
     "metadata": {},
     "output_type": "execute_result"
    }
   ],
   "source": [
    "lst5=['python', 'php', 'aba', 'radar', 'level']\n",
    "\n",
    "list(filter(lambda x: (x == \"\".join(reversed(x))),lst5))"
   ]
  },
  {
   "cell_type": "code",
   "execution_count": null,
   "id": "d0da0a06-c010-42a7-9d98-d31fb80b2b82",
   "metadata": {},
   "outputs": [],
   "source": []
  }
 ],
 "metadata": {
  "kernelspec": {
   "display_name": "Python 3 (ipykernel)",
   "language": "python",
   "name": "python3"
  },
  "language_info": {
   "codemirror_mode": {
    "name": "ipython",
    "version": 3
   },
   "file_extension": ".py",
   "mimetype": "text/x-python",
   "name": "python",
   "nbconvert_exporter": "python",
   "pygments_lexer": "ipython3",
   "version": "3.10.8"
  }
 },
 "nbformat": 4,
 "nbformat_minor": 5
}
