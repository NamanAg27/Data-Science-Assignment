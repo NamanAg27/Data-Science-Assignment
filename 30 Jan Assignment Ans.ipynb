{
 "cells": [
  {
   "cell_type": "markdown",
   "id": "802d2d36-e3b3-465e-828e-1696e984577a",
   "metadata": {},
   "source": [
    "## Answer 1"
   ]
  },
  {
   "cell_type": "code",
   "execution_count": 1,
   "id": "b55fae8d-5932-46bf-bfb2-3ab446b3e572",
   "metadata": {},
   "outputs": [
    {
     "name": "stdin",
     "output_type": "stream",
     "text": [
      "Please Enter Your Percentage 66\n"
     ]
    },
    {
     "name": "stdout",
     "output_type": "stream",
     "text": [
      "Grade C\n"
     ]
    }
   ],
   "source": [
    "per=int(input(\"Please Enter Your Percentage\"))\n",
    "if per>100:\n",
    "    print(\"Please Enter Correct Details\")\n",
    "elif per<=100 and per>90:\n",
    "    print(\"Grade A\")\n",
    "elif per<=90 and per>80:\n",
    "    print(\"Grade B\")\n",
    "elif per<=80 and per>=60:\n",
    "    print(\"Grade C\")\n",
    "else:\n",
    "    print(\"Grade D\")"
   ]
  },
  {
   "cell_type": "markdown",
   "id": "32532c16-6c92-4973-bf22-133c3e6a1f6d",
   "metadata": {},
   "source": [
    "## Answer 2"
   ]
  },
  {
   "cell_type": "code",
   "execution_count": 2,
   "id": "638fe46e-22f9-4235-856a-f26dffdbd505",
   "metadata": {},
   "outputs": [
    {
     "name": "stdin",
     "output_type": "stream",
     "text": [
      "Enter the cost price of your bike 54000\n"
     ]
    },
    {
     "name": "stdout",
     "output_type": "stream",
     "text": [
      "Your Road Tax = 5400.0\n"
     ]
    }
   ],
   "source": [
    "price=int(input(\"Enter the cost price of your bike\"))\n",
    "if price>100000:\n",
    "    print(\"Your Road Tax =\",price*0.15)\n",
    "elif price<=100000 and price>50000:\n",
    "    print(\"Your Road Tax =\",price*0.10)\n",
    "else:\n",
    "    print(\"Your Road Tax =\",price*0.05)"
   ]
  },
  {
   "cell_type": "markdown",
   "id": "e6ea9a8e-3431-489f-b669-330a52a3babe",
   "metadata": {},
   "source": [
    "## Answer 3"
   ]
  },
  {
   "cell_type": "code",
   "execution_count": 3,
   "id": "737fcbf2-ee77-480e-9c3a-68338c1cd9f9",
   "metadata": {},
   "outputs": [
    {
     "name": "stdin",
     "output_type": "stream",
     "text": [
      "Enter your city name AgRA\n"
     ]
    },
    {
     "name": "stdout",
     "output_type": "stream",
     "text": [
      "Monument is Taj Mahal\n"
     ]
    }
   ],
   "source": [
    "city=str(input(\"Enter your city name\").upper())\n",
    "if city==\"AGRA\":\n",
    "    print(\"Monument is Taj Mahal\")\n",
    "elif city==\"DELHI\":\n",
    "    print(\"Monument is Red Fort\")\n",
    "elif city==\"JAIPUR\":\n",
    "    print(\"Monument is Jal Mahal\")\n",
    "else:\n",
    "    print(\"Data Not Found\")"
   ]
  },
  {
   "cell_type": "markdown",
   "id": "a11a9ec8-4f89-4568-92c6-4cd559ec5eb3",
   "metadata": {},
   "source": [
    "## Answer 4"
   ]
  },
  {
   "cell_type": "code",
   "execution_count": 25,
   "id": "e1cef019-e8b4-4d8a-b607-f2181c5351d9",
   "metadata": {},
   "outputs": [
    {
     "name": "stdin",
     "output_type": "stream",
     "text": [
      "enter the digit 5678\n"
     ]
    },
    {
     "name": "stdout",
     "output_type": "stream",
     "text": [
      "6\n"
     ]
    }
   ],
   "source": [
    "n=int(input(\"enter the digit\"))\n",
    "c=0\n",
    "while n:\n",
    "    n=n//3\n",
    "    c=c+1\n",
    "    if n<=10:\n",
    "        break\n",
    "    print(end=\"\")\n",
    "print(c)"
   ]
  },
  {
   "cell_type": "markdown",
   "id": "3b8a5306-bba8-4519-b53d-e2cec5e14b92",
   "metadata": {},
   "source": [
    "## Answer 5"
   ]
  },
  {
   "cell_type": "markdown",
   "id": "cf9277d8-db7d-44fb-9d5b-a2c86fe429f5",
   "metadata": {},
   "source": [
    "A \"While\" Loop is used to repeat a specific block of code an unknown number of times, until a condition is met. For example, if we want to ask a user for a number between 1 and 10, \n",
    "we don't know how many times the user may enter a larger number, so we keep asking \"while the number is not between 1 and 10\"\n"
   ]
  },
  {
   "cell_type": "markdown",
   "id": "678b233c-0a92-4e2a-a43f-9f23641d0d43",
   "metadata": {},
   "source": [
    "## Answer 6"
   ]
  },
  {
   "cell_type": "code",
   "execution_count": 4,
   "id": "429a63d0-e421-425e-9d91-90914f93ac19",
   "metadata": {},
   "outputs": [
    {
     "name": "stdin",
     "output_type": "stream",
     "text": [
      "Enter the number 8\n"
     ]
    },
    {
     "name": "stdout",
     "output_type": "stream",
     "text": [
      "* \n",
      "* * \n",
      "* * * \n",
      "* * * * \n",
      "* * * * * \n",
      "* * * * * * \n",
      "* * * * * * * \n",
      "* * * * * * * * \n"
     ]
    }
   ],
   "source": [
    "## Answer 6.1\n",
    "numb=int(input(\"Enter the number\"))\n",
    "row=0\n",
    "while row<numb:\n",
    "    star=row+1\n",
    "    while star>0:\n",
    "        print(\"*\",end=' ')\n",
    "        star=star-1\n",
    "    row=row+1\n",
    "    print()"
   ]
  },
  {
   "cell_type": "code",
   "execution_count": 13,
   "id": "45bce5f5-2d1b-4d5b-8f44-2503f72852be",
   "metadata": {},
   "outputs": [
    {
     "name": "stdin",
     "output_type": "stream",
     "text": [
      "Enter the number 8\n"
     ]
    },
    {
     "name": "stdout",
     "output_type": "stream",
     "text": [
      "* * * * * * * * \n",
      "* * * * * * * \n",
      "* * * * * * \n",
      "* * * * * \n",
      "* * * * \n",
      "* * * \n",
      "* * \n",
      "* \n"
     ]
    }
   ],
   "source": [
    "## Answer 6.2\n",
    "num=int(input(\"Enter the number\"))\n",
    "num+=1\n",
    "while row<num:\n",
    "    star=num-1\n",
    "    if star==0:\n",
    "        break\n",
    "    while star>0:\n",
    "        print(\"*\",end=' ')\n",
    "        star=star-1\n",
    "    num=num-1\n",
    "    print()"
   ]
  },
  {
   "cell_type": "code",
   "execution_count": 14,
   "id": "2fa25e74-9287-430c-9954-a165f54b0050",
   "metadata": {},
   "outputs": [
    {
     "name": "stdin",
     "output_type": "stream",
     "text": [
      "Enter the number 10\n"
     ]
    },
    {
     "name": "stdout",
     "output_type": "stream",
     "text": [
      "         *\n",
      "        **\n",
      "       ***\n",
      "      ****\n",
      "     *****\n",
      "    ******\n",
      "   *******\n",
      "  ********\n",
      " *********\n",
      "**********\n"
     ]
    }
   ],
   "source": [
    "## Answer 6.3\n",
    "numb=int(input(\"Enter the number\"))\n",
    "row=0\n",
    "while numb:\n",
    "    space=numb-1\n",
    "    while space>0:\n",
    "        print(\" \",end='')\n",
    "        space=space-1\n",
    "    star=row+1\n",
    "    while star>0:\n",
    "        print(\"*\",end=\"\")\n",
    "        star-=1\n",
    "    numb-=1\n",
    "    row+=1\n",
    "    print()"
   ]
  },
  {
   "cell_type": "markdown",
   "id": "801e1380-6af7-4b1e-ae75-73ede9bafdd1",
   "metadata": {},
   "source": [
    "## Answer 7"
   ]
  },
  {
   "cell_type": "code",
   "execution_count": 15,
   "id": "0a5c56a4-802c-431f-8229-6084733584c2",
   "metadata": {},
   "outputs": [
    {
     "name": "stdout",
     "output_type": "stream",
     "text": [
      "10\n",
      "9\n",
      "8\n",
      "7\n",
      "6\n",
      "5\n",
      "4\n",
      "3\n",
      "2\n",
      "1\n"
     ]
    }
   ],
   "source": [
    "n=10\n",
    "while n>0:\n",
    "    print(n)\n",
    "    n=n-1"
   ]
  },
  {
   "cell_type": "markdown",
   "id": "5acdeb4b-3d08-410b-9ec1-b08b238b8998",
   "metadata": {},
   "source": [
    "## Answer 8"
   ]
  },
  {
   "cell_type": "code",
   "execution_count": 16,
   "id": "c553bd7d-058f-438f-bf53-fe9223dec6a1",
   "metadata": {},
   "outputs": [
    {
     "name": "stdout",
     "output_type": "stream",
     "text": [
      "10\n",
      "9\n",
      "8\n",
      "7\n",
      "6\n",
      "5\n",
      "4\n",
      "3\n",
      "2\n",
      "1\n"
     ]
    }
   ],
   "source": [
    "n=10\n",
    "while n>0:\n",
    "    print(n)\n",
    "    n=n-1"
   ]
  },
  {
   "cell_type": "code",
   "execution_count": null,
   "id": "cb04017d-0eed-4fe3-9149-e885c99a2886",
   "metadata": {},
   "outputs": [],
   "source": []
  }
 ],
 "metadata": {
  "kernelspec": {
   "display_name": "Python 3 (ipykernel)",
   "language": "python",
   "name": "python3"
  },
  "language_info": {
   "codemirror_mode": {
    "name": "ipython",
    "version": 3
   },
   "file_extension": ".py",
   "mimetype": "text/x-python",
   "name": "python",
   "nbconvert_exporter": "python",
   "pygments_lexer": "ipython3",
   "version": "3.10.8"
  }
 },
 "nbformat": 4,
 "nbformat_minor": 5
}
