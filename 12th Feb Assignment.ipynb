{
 "cells": [
  {
   "cell_type": "markdown",
   "id": "dd238cfb-0974-4bc2-817f-393deb6eee05",
   "metadata": {},
   "source": [
    "## Answer 1"
   ]
  },
  {
   "cell_type": "markdown",
   "id": "71de999e-119b-4ede-8eb3-046589cd8a68",
   "metadata": {},
   "source": [
    "An Exception is an error that happens during the execution of a program. Whenever there is an error, Python generates an exception that could be handled. It basically prevents the program from getting crashed."
   ]
  },
  {
   "cell_type": "markdown",
   "id": "8b7d1cb2-d660-4010-a4d4-419867240473",
   "metadata": {},
   "source": [
    "1.  Syntax Errors\n",
    "\n",
    "The mistakes done while writing statements.  For example, instead of \"WRITE\", if you type \"WIRTE\" it is a syntax error. \n",
    "\n",
    "Compiler can detect these types of errors.  You will not be able to run the program till these errors are rectified."
   ]
  },
  {
   "cell_type": "markdown",
   "id": "a4849da8-9ef3-4a21-9796-a4058432e66b",
   "metadata": {},
   "source": [
    "2. Exceptions\n",
    "\n",
    "If a statement or expression is syntactically correct, it may cause an error when an attempt is made to execute it. Errors detected during code execution are called exceptions and are not unconditionally fatal. Most exceptions are not handled by programs"
   ]
  },
  {
   "cell_type": "markdown",
   "id": "ef02279a-1663-4443-a9a9-103469f4d84c",
   "metadata": {},
   "source": [
    "## Answer 2"
   ]
  },
  {
   "cell_type": "markdown",
   "id": "dbf73b77-877c-4147-81d6-d447b76067e3",
   "metadata": {},
   "source": [
    "When a Python script raises an exception, it must either handle the exception immediately otherwise it terminates and quits."
   ]
  },
  {
   "cell_type": "code",
   "execution_count": 1,
   "id": "3019b46f-30b3-4fb1-a616-00089a597d45",
   "metadata": {},
   "outputs": [],
   "source": [
    "## example"
   ]
  },
  {
   "cell_type": "code",
   "execution_count": 3,
   "id": "20e3b758-9fb1-4816-9f16-e0d600a739ec",
   "metadata": {},
   "outputs": [
    {
     "ename": "FileNotFoundError",
     "evalue": "[Errno 2] No such file or directory: 'text.txt'",
     "output_type": "error",
     "traceback": [
      "\u001b[0;31m---------------------------------------------------------------------------\u001b[0m",
      "\u001b[0;31mFileNotFoundError\u001b[0m                         Traceback (most recent call last)",
      "Cell \u001b[0;32mIn[3], line 1\u001b[0m\n\u001b[0;32m----> 1\u001b[0m f\u001b[38;5;241m=\u001b[39m\u001b[38;5;28;43mopen\u001b[39;49m\u001b[43m(\u001b[49m\u001b[38;5;124;43m\"\u001b[39;49m\u001b[38;5;124;43mtext.txt\u001b[39;49m\u001b[38;5;124;43m\"\u001b[39;49m\u001b[43m,\u001b[49m\u001b[38;5;124;43m\"\u001b[39;49m\u001b[38;5;124;43mr\u001b[39;49m\u001b[38;5;124;43m\"\u001b[39;49m\u001b[43m)\u001b[49m\n\u001b[1;32m      3\u001b[0m \u001b[38;5;66;03m## below line is not executed because the above code's execution error is not handled\u001b[39;00m\n\u001b[1;32m      4\u001b[0m \u001b[38;5;28mprint\u001b[39m(\u001b[38;5;124m\"\u001b[39m\u001b[38;5;124mI didn\u001b[39m\u001b[38;5;124m'\u001b[39m\u001b[38;5;124mt have any error\u001b[39m\u001b[38;5;124m\"\u001b[39m)\n",
      "File \u001b[0;32m/opt/conda/lib/python3.10/site-packages/IPython/core/interactiveshell.py:282\u001b[0m, in \u001b[0;36m_modified_open\u001b[0;34m(file, *args, **kwargs)\u001b[0m\n\u001b[1;32m    275\u001b[0m \u001b[38;5;28;01mif\u001b[39;00m file \u001b[38;5;129;01min\u001b[39;00m {\u001b[38;5;241m0\u001b[39m, \u001b[38;5;241m1\u001b[39m, \u001b[38;5;241m2\u001b[39m}:\n\u001b[1;32m    276\u001b[0m     \u001b[38;5;28;01mraise\u001b[39;00m \u001b[38;5;167;01mValueError\u001b[39;00m(\n\u001b[1;32m    277\u001b[0m         \u001b[38;5;124mf\u001b[39m\u001b[38;5;124m\"\u001b[39m\u001b[38;5;124mIPython won\u001b[39m\u001b[38;5;124m'\u001b[39m\u001b[38;5;124mt let you open fd=\u001b[39m\u001b[38;5;132;01m{\u001b[39;00mfile\u001b[38;5;132;01m}\u001b[39;00m\u001b[38;5;124m by default \u001b[39m\u001b[38;5;124m\"\u001b[39m\n\u001b[1;32m    278\u001b[0m         \u001b[38;5;124m\"\u001b[39m\u001b[38;5;124mas it is likely to crash IPython. If you know what you are doing, \u001b[39m\u001b[38;5;124m\"\u001b[39m\n\u001b[1;32m    279\u001b[0m         \u001b[38;5;124m\"\u001b[39m\u001b[38;5;124myou can use builtins\u001b[39m\u001b[38;5;124m'\u001b[39m\u001b[38;5;124m open.\u001b[39m\u001b[38;5;124m\"\u001b[39m\n\u001b[1;32m    280\u001b[0m     )\n\u001b[0;32m--> 282\u001b[0m \u001b[38;5;28;01mreturn\u001b[39;00m \u001b[43mio_open\u001b[49m\u001b[43m(\u001b[49m\u001b[43mfile\u001b[49m\u001b[43m,\u001b[49m\u001b[43m \u001b[49m\u001b[38;5;241;43m*\u001b[39;49m\u001b[43margs\u001b[49m\u001b[43m,\u001b[49m\u001b[43m \u001b[49m\u001b[38;5;241;43m*\u001b[39;49m\u001b[38;5;241;43m*\u001b[39;49m\u001b[43mkwargs\u001b[49m\u001b[43m)\u001b[49m\n",
      "\u001b[0;31mFileNotFoundError\u001b[0m: [Errno 2] No such file or directory: 'text.txt'"
     ]
    }
   ],
   "source": [
    "f=open(\"text.txt\",\"r\")\n",
    "\n",
    "## below line is not executed because the above code's execution error is not handled\n",
    "print(\"I didn't have any error\")\n",
    "    "
   ]
  },
  {
   "cell_type": "markdown",
   "id": "125724e1-0676-48bc-b9fe-74def75bb4dc",
   "metadata": {},
   "source": [
    "## Answer 3"
   ]
  },
  {
   "cell_type": "markdown",
   "id": "1aee551d-7afd-454d-aa70-5a7d9c556dbb",
   "metadata": {},
   "source": [
    "The try and except block in Python is used to catch and handle exceptions. Python executes code following the try statement as a “normal” part of the program. The code that follows the except statement is the program's response to any exceptions in the preceding try clause."
   ]
  },
  {
   "cell_type": "code",
   "execution_count": 6,
   "id": "8aac66ad-090d-43c7-90ee-c04a12ba42fd",
   "metadata": {},
   "outputs": [
    {
     "name": "stdout",
     "output_type": "stream",
     "text": [
      "File is not found for read so we handle this error:- [Errno 2] No such file or directory: 'text.txt'\n"
     ]
    }
   ],
   "source": [
    "try:\n",
    "    f=open(\"text.txt\",\"r\")\n",
    "except Exception as e:\n",
    "    print(\"File is not found for read so we handle this error:-\", e)"
   ]
  },
  {
   "cell_type": "markdown",
   "id": "66548596-4d2b-40e3-a1d6-03442b01649c",
   "metadata": {},
   "source": [
    "## Answer 4"
   ]
  },
  {
   "cell_type": "code",
   "execution_count": 24,
   "id": "a5fcd5d8-e389-4a86-99e4-bc48a8d0086d",
   "metadata": {},
   "outputs": [
    {
     "name": "stdout",
     "output_type": "stream",
     "text": [
      "[Errno 2] No such file or directory: 'ds.txtr'\n"
     ]
    }
   ],
   "source": [
    "## Example of try and else\n",
    "\n",
    "try:\n",
    "    a=open(\"ds.txt\"\"r\")\n",
    "except Exception as e:\n",
    "    print(e)\n",
    "else:\n",
    "    print(\"Else:-I am Execute when Try block execute without error\")"
   ]
  },
  {
   "cell_type": "code",
   "execution_count": 23,
   "id": "59b8aade-064e-4cc6-b1aa-c1f8bc2aa07b",
   "metadata": {},
   "outputs": [
    {
     "name": "stdout",
     "output_type": "stream",
     "text": [
      "Else:-I am Execute when Try block execute without error\n"
     ]
    }
   ],
   "source": [
    "try:\n",
    "    a=open(\"dc.txt\",\"w\")\n",
    "    a.write(\"This time I will Try to execute\")\n",
    "except Exception as e:\n",
    "    print(e)\n",
    "else:\n",
    "    print(\"Else:-I am Execute when Try block execute without error\")"
   ]
  },
  {
   "cell_type": "code",
   "execution_count": 22,
   "id": "2aaa114b-38b0-42e3-a999-0d51878eb86c",
   "metadata": {},
   "outputs": [
    {
     "name": "stdout",
     "output_type": "stream",
     "text": [
      "[Errno 2] No such file or directory: 'ds.txtr'\n",
      "Finally:-I don't care about try block I always Executed\n"
     ]
    }
   ],
   "source": [
    "## Example of finally\n",
    "\n",
    "try:\n",
    "    a=open(\"ds.txt\"\"r\")\n",
    "except Exception as e:\n",
    "    print(e)\n",
    "else:\n",
    "    print(\"Else:-I am Execute when Try block execute without error\")\n",
    "finally:\n",
    "    print(\"Finally:-I don't care about try block I always Executed\")"
   ]
  },
  {
   "cell_type": "code",
   "execution_count": 21,
   "id": "9f33ec6d-390a-4dd8-a400-41566e86c5a2",
   "metadata": {},
   "outputs": [
    {
     "name": "stdout",
     "output_type": "stream",
     "text": [
      "Else:-I am Execute when Try block execute without error\n",
      "Finally:-I don't care about try block I always Executed\n"
     ]
    }
   ],
   "source": [
    "try:\n",
    "    a=open(\"dc.txt\",\"w\")\n",
    "    a.write(\"This time I will Try to execute\")\n",
    "except Exception as e:\n",
    "    print(e)\n",
    "else:\n",
    "    print(\"Else:-I am Execute when Try block execute without error\")\n",
    "finally:\n",
    "    print(\"Finally:-I don't care about try block I always Executed\")"
   ]
  },
  {
   "cell_type": "code",
   "execution_count": 27,
   "id": "0fc48e66-f8b6-4415-8993-ba830fb89940",
   "metadata": {},
   "outputs": [
    {
     "ename": "CustomError",
     "evalue": "Example of Custom Exceptions in Python",
     "output_type": "error",
     "traceback": [
      "\u001b[0;31m---------------------------------------------------------------------------\u001b[0m",
      "\u001b[0;31mCustomError\u001b[0m                               Traceback (most recent call last)",
      "Cell \u001b[0;32mIn[27], line 6\u001b[0m\n\u001b[1;32m      3\u001b[0m \u001b[38;5;28;01mclass\u001b[39;00m \u001b[38;5;21;01mCustomError\u001b[39;00m(\u001b[38;5;167;01mException\u001b[39;00m):\n\u001b[1;32m      4\u001b[0m     \u001b[38;5;28;01mpass\u001b[39;00m\n\u001b[0;32m----> 6\u001b[0m \u001b[38;5;28;01mraise\u001b[39;00m CustomError(\u001b[38;5;124m\"\u001b[39m\u001b[38;5;124mExample of Custom Exceptions in Python\u001b[39m\u001b[38;5;124m\"\u001b[39m)\n",
      "\u001b[0;31mCustomError\u001b[0m: Example of Custom Exceptions in Python"
     ]
    }
   ],
   "source": [
    "## Example of raise\n",
    "\n",
    "class CustomError(Exception):\n",
    "    pass\n",
    "\n",
    "raise CustomError(\"Example of Custom Exceptions in Python\")"
   ]
  },
  {
   "cell_type": "markdown",
   "id": "b1af0202-ffbf-40d0-a14a-8a865585b597",
   "metadata": {},
   "source": [
    "## Answer 5"
   ]
  },
  {
   "cell_type": "markdown",
   "id": "175a04d8-5afc-4563-980e-c5abd2a7b0a0",
   "metadata": {},
   "source": [
    "In Python, we can define custom exceptions by creating a new class that is derived from the built-in Exception class."
   ]
  },
  {
   "cell_type": "markdown",
   "id": "1881122f-725f-4e38-9c30-abad7eab69ba",
   "metadata": {},
   "source": [
    "When we write a code and chances to get exceptions from user so we need to built a custom exception."
   ]
  },
  {
   "cell_type": "code",
   "execution_count": 26,
   "id": "db878409-63f2-43c1-9ddb-712dce930f42",
   "metadata": {},
   "outputs": [
    {
     "ename": "CustomError",
     "evalue": "Example of Custom Exceptions in Python",
     "output_type": "error",
     "traceback": [
      "\u001b[0;31m---------------------------------------------------------------------------\u001b[0m",
      "\u001b[0;31mCustomError\u001b[0m                               Traceback (most recent call last)",
      "Cell \u001b[0;32mIn[26], line 4\u001b[0m\n\u001b[1;32m      1\u001b[0m \u001b[38;5;28;01mclass\u001b[39;00m \u001b[38;5;21;01mCustomError\u001b[39;00m(\u001b[38;5;167;01mException\u001b[39;00m):\n\u001b[1;32m      2\u001b[0m     \u001b[38;5;28;01mpass\u001b[39;00m\n\u001b[0;32m----> 4\u001b[0m \u001b[38;5;28;01mraise\u001b[39;00m CustomError(\u001b[38;5;124m\"\u001b[39m\u001b[38;5;124mExample of Custom Exceptions in Python\u001b[39m\u001b[38;5;124m\"\u001b[39m)\n",
      "\u001b[0;31mCustomError\u001b[0m: Example of Custom Exceptions in Python"
     ]
    }
   ],
   "source": [
    "class CustomError(Exception):\n",
    "    pass\n",
    "\n",
    "raise CustomError(\"Example of Custom Exceptions in Python\")"
   ]
  },
  {
   "cell_type": "markdown",
   "id": "88998cc5-8e56-4118-963c-dd2dc4f588c3",
   "metadata": {},
   "source": [
    "## Answer 6"
   ]
  },
  {
   "cell_type": "code",
   "execution_count": 25,
   "id": "53e2d5a6-f4bd-4616-a993-758f0f083b13",
   "metadata": {},
   "outputs": [
    {
     "name": "stdin",
     "output_type": "stream",
     "text": [
      "Enter your price 45000\n"
     ]
    },
    {
     "name": "stdout",
     "output_type": "stream",
     "text": [
      "Congratulations! we found some bikes for you\n"
     ]
    }
   ],
   "source": [
    "class bike(Exception):\n",
    "    def __init__(self,msg):\n",
    "        self.msg=msg\n",
    "        \n",
    "def bike_price(price):\n",
    "    if price<45000:\n",
    "        raise bike(\"You entered low range.. bike is not avialable\")\n",
    "    elif price>300000:\n",
    "        raise bike(\"You entered high range.. bike is not avialable\")\n",
    "    else:\n",
    "        print(\"Congratulations! we found some bikes for you\")\n",
    "            \n",
    "try:\n",
    "    price=int(input(\"Enter your price\"))\n",
    "    bike_price(price)\n",
    "except bike as e:\n",
    "    print(e)"
   ]
  },
  {
   "cell_type": "code",
   "execution_count": null,
   "id": "fdbee14b-23d4-493e-aecb-ef1e5621d77e",
   "metadata": {},
   "outputs": [],
   "source": []
  }
 ],
 "metadata": {
  "kernelspec": {
   "display_name": "Python 3 (ipykernel)",
   "language": "python",
   "name": "python3"
  },
  "language_info": {
   "codemirror_mode": {
    "name": "ipython",
    "version": 3
   },
   "file_extension": ".py",
   "mimetype": "text/x-python",
   "name": "python",
   "nbconvert_exporter": "python",
   "pygments_lexer": "ipython3",
   "version": "3.10.8"
  }
 },
 "nbformat": 4,
 "nbformat_minor": 5
}
