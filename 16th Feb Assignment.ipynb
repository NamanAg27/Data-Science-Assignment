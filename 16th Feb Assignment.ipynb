{
 "cells": [
  {
   "cell_type": "markdown",
   "id": "87e43e06-a9d3-49f2-8224-a019ecbaa5fb",
   "metadata": {},
   "source": [
    "## Answer 1"
   ]
  },
  {
   "cell_type": "markdown",
   "id": "d96bb231-e2d5-4be4-9dc5-b066b75776c7",
   "metadata": {},
   "source": [
    "### What is a database?\n",
    "A database is an organized collection of structured information, or data, typically stored electronically in a computer system. A database is usually controlled by a database management system (DBMS)."
   ]
  },
  {
   "cell_type": "markdown",
   "id": "a63b028a-c669-408e-8b74-91aad1f44d25",
   "metadata": {},
   "source": [
    "###  Differentiate between SQL and NoSQL databases.\n",
    "SQL is the programming language used to interface with relational databases. (Relational databases model data as records in rows and tables with logical links between them). NoSQL is a class of DBMs that are non-relational and generally do not use SQL."
   ]
  },
  {
   "cell_type": "markdown",
   "id": "d7c55927-5a44-4581-a1a1-adcb8046992a",
   "metadata": {},
   "source": [
    "## Answer 2"
   ]
  },
  {
   "cell_type": "markdown",
   "id": "4a79ce49-c09a-4e26-8a7e-72038c070347",
   "metadata": {},
   "source": [
    "### What is DDL?\n",
    "A data definition language (DDL) is a computer language used to create and modify the structure of database objects in a database"
   ]
  },
  {
   "cell_type": "markdown",
   "id": "91d2c4a3-d212-46dc-b118-851e2ee4223c",
   "metadata": {},
   "source": [
    "#### Explanation of Create\n",
    "The CREATE command is used to create CREATE DATABASE, CREATE TABLE, CREATE INDEX, etc."
   ]
  },
  {
   "cell_type": "code",
   "execution_count": 3,
   "id": "48cdc5ac-45d8-4a21-88d8-feb0a75e399a",
   "metadata": {},
   "outputs": [],
   "source": [
    "## Ex. of Create Table\n",
    "\n",
    "CREATE TABLE Persons (\n",
    "    PersonID int,\n",
    "    LastName varchar(255),\n",
    "    FirstName varchar(255),\n",
    "    Address varchar(255),\n",
    "    City varchar(255)\n",
    ");"
   ]
  },
  {
   "cell_type": "markdown",
   "id": "a838bb77-854d-492b-908b-01333c88c5c9",
   "metadata": {},
   "source": [
    "#### Explanation of Drop\n",
    "\n",
    "The DROP command is used to delete an existing table, existing database etc."
   ]
  },
  {
   "cell_type": "code",
   "execution_count": null,
   "id": "77c01d6a-d1f6-413f-bd57-36e0b8a9585c",
   "metadata": {},
   "outputs": [],
   "source": [
    "## Ex. of Drop Daatbase\n",
    "\n",
    "DROP DATABASE testDB;"
   ]
  },
  {
   "cell_type": "markdown",
   "id": "e9598719-b929-4aaf-9bfd-985c088976e7",
   "metadata": {},
   "source": [
    "#### Explanation of Alter\n",
    "The ALTER command is used to change, add, delete, modify the data type."
   ]
  },
  {
   "cell_type": "code",
   "execution_count": null,
   "id": "e9046b1d-d535-4864-9d22-da8d345c8fbc",
   "metadata": {},
   "outputs": [],
   "source": [
    "## Ex. of Alter Table\n",
    "\n",
    "ALTER TABLE Customers\n",
    "ADD Email varchar(255);"
   ]
  },
  {
   "cell_type": "markdown",
   "id": "0d7ea6d0-7637-47bb-935c-63b70bbb9d3b",
   "metadata": {},
   "source": [
    "#### Explanation of TRUNCATE\n",
    "The TRUNCATE TABLE command deletes the data inside a table, but not the table itself."
   ]
  },
  {
   "cell_type": "code",
   "execution_count": null,
   "id": "04626f5b-9c19-4255-bba9-52979370c7d8",
   "metadata": {},
   "outputs": [],
   "source": [
    "## Ex. of Truncate table\n",
    "\n",
    "TRUNCATE TABLE Categories;"
   ]
  },
  {
   "cell_type": "markdown",
   "id": "a24e1c83-6bbc-4b6d-9bce-feee7c456e7f",
   "metadata": {},
   "source": [
    "## Answer 3"
   ]
  },
  {
   "cell_type": "markdown",
   "id": "ea55556b-3a7c-4d73-a9ea-1e27fac2e25d",
   "metadata": {},
   "source": [
    "### What is DML?\n",
    "\n",
    "A DML (data manipulation language) refers to a computer programming language that allows you to add (insert), delete (delete), and alter (update) data in a database. A DML is typically a sublanguage of a larger database language like SQL, with the DML containing some of the language's operators."
   ]
  },
  {
   "cell_type": "markdown",
   "id": "d45d5f35-e82a-45f1-b64e-a5bd542328ed",
   "metadata": {},
   "source": [
    "#### Explanation of Insert\n",
    "\n",
    "The INSERT INTO command is used to insert new rows in a table."
   ]
  },
  {
   "cell_type": "code",
   "execution_count": null,
   "id": "ac3e9a74-7b0b-4a58-9f86-e03078471b5e",
   "metadata": {},
   "outputs": [],
   "source": [
    "## ex. of Insert Into\n",
    "\n",
    "INSERT INTO Customers (CustomerName, City, Country)"
   ]
  },
  {
   "cell_type": "markdown",
   "id": "85d4a6d0-cfc6-4fa4-aaa1-45bb0e39f653",
   "metadata": {},
   "source": [
    "#### Explanation of Update\n",
    "\n",
    "The UPDATE command is used to update existing rows in a table."
   ]
  },
  {
   "cell_type": "code",
   "execution_count": null,
   "id": "0dd3f764-a826-4964-963a-11f1ab9411fd",
   "metadata": {},
   "outputs": [],
   "source": [
    "## ex. of Update\n",
    "\n",
    "UPDATE Customers\n",
    "SET ContactName = 'Naman', City= 'Agra'\n",
    "WHERE CustomerID = 1;"
   ]
  },
  {
   "cell_type": "markdown",
   "id": "034b784a-42f4-48b8-a7c1-35cf295de90b",
   "metadata": {},
   "source": [
    "#### Explanation of Delete\n",
    "\n",
    "The DELETE command is used to delete existing records in a table."
   ]
  },
  {
   "cell_type": "code",
   "execution_count": null,
   "id": "65e5fcfc-1c91-41f6-b4a3-9fb69e3c2ab7",
   "metadata": {},
   "outputs": [],
   "source": [
    "## Ex. of delete\n",
    "\n",
    "DELETE FROM Customers WHERE CustomerName='Naman';"
   ]
  },
  {
   "cell_type": "markdown",
   "id": "524f0d18-1268-43d4-b47f-fdf8446665c4",
   "metadata": {},
   "source": [
    "## Answer 4"
   ]
  },
  {
   "cell_type": "markdown",
   "id": "5c29cae0-23e6-4da7-aa1d-711257041a3e",
   "metadata": {},
   "source": [
    "###  What is DQL?\n",
    "\n",
    "The full form of DQL is Data Query Language. DQL is a part of the grouping involved in SQL (Structures Query Language) sub-languages."
   ]
  },
  {
   "cell_type": "markdown",
   "id": "40e3677c-4325-4b27-9e60-37491b745595",
   "metadata": {},
   "source": [
    "#### Explaination of SELECT\n",
    "\n",
    "The SELECT command is used to select data from a database. The data returned is stored in a result table, called the result set."
   ]
  },
  {
   "cell_type": "code",
   "execution_count": null,
   "id": "f8d710a4-02b6-4d7f-9f24-8c481d367ac0",
   "metadata": {},
   "outputs": [],
   "source": [
    "## Ex. of select\n",
    "\n",
    "SELECT CustomerName, City FROM Customers;"
   ]
  },
  {
   "cell_type": "markdown",
   "id": "d5a42a96-4976-46a7-bfe8-395a40f3582b",
   "metadata": {},
   "source": [
    "## Answer 5"
   ]
  },
  {
   "cell_type": "markdown",
   "id": "063fc01e-427d-4a64-923a-798ebc46e278",
   "metadata": {},
   "source": [
    "### Primary Key: \n",
    "A primary key is used to ensure that data in the specific column is unique. A column cannot have NULL values. It is either an existing table column or a column that is specifically generated by the database according to a defined sequence."
   ]
  },
  {
   "cell_type": "markdown",
   "id": "4b2ccbb0-e873-4f43-80c0-2574cc8e488a",
   "metadata": {},
   "source": [
    "### Foreign Key: \n",
    "A foreign key is a column or group of columns in a relational database table that provides a link between data in two tables. It is a column (or columns) that references a column (most often the primary key) of another table. "
   ]
  },
  {
   "cell_type": "markdown",
   "id": "c5999501-8f5d-44b8-a711-d90db2900121",
   "metadata": {},
   "source": [
    "## Answer 6"
   ]
  },
  {
   "cell_type": "code",
   "execution_count": null,
   "id": "2ff19266-ca48-427a-a859-020fdf2cb908",
   "metadata": {},
   "outputs": [],
   "source": [
    "import mysql.connector\n",
    "mydb = mysql.connector.connect(\n",
    "  host=\"localhost\",\n",
    "  user=\"abc\",\n",
    "  password=\"password\"\n",
    ")\n",
    "print(mydb)\n",
    "mycursor = mydb.cursor()\n",
    "mycursor.execute(\"SHOW DATABASES\")\n",
    "for x in mycursor:\n",
    "  print(x)"
   ]
  },
  {
   "cell_type": "markdown",
   "id": "52ae7d67-0686-4d85-98e2-96ab9fc23406",
   "metadata": {},
   "source": [
    "### Explanation of Cursor()\n",
    "\n",
    "Cursor is a Temporary Memory or Temporary Work Station. It is Allocated by Database Server at the Time of Performing DML(Data Manipulation Language) operations on Table by User. Cursors are used to store Database Tables."
   ]
  },
  {
   "cell_type": "markdown",
   "id": "2013bccb-be38-431f-8ad4-1d79af960a25",
   "metadata": {},
   "source": [
    "### Explanation of Execute()\n",
    "\n",
    "The EXECUTE command is used to execute a stored procedure."
   ]
  },
  {
   "cell_type": "markdown",
   "id": "b479f1c8-7216-4e2a-b969-e5bacca108cf",
   "metadata": {},
   "source": [
    "## Answer 7"
   ]
  },
  {
   "cell_type": "markdown",
   "id": "4cb39162-3e56-40d3-b3f4-d919944b622e",
   "metadata": {},
   "source": [
    "The order in which the clauses in queries are executed is as follows:\n",
    "\n",
    "1. FROM/JOIN: The FROM and/or JOIN clauses are executed first to determine the data of interest.\n",
    "\n",
    "2. WHERE: The WHERE clause is executed to filter out records that do not meet the constraints.\n",
    "\n",
    "3. GROUP BY: The GROUP BY clause is executed to group the data based on the values in one or more columns.\n",
    "\n",
    "4. HAVING: The HAVING clause is executed to remove the created grouped records that don’t meet the constraints.\n",
    "\n",
    "5. SELECT: The SELECT clause is executed to derive all desired columns and expressions.\n",
    "\n",
    "6. ORDER BY: The ORDER BY clause is executed to sort the derived values in ascending or descending order.\n",
    "\n",
    "7. LIMIT/OFFSET: Finally, the LIMIT and/or OFFSET clauses are executed to keep or skip a specified number of rows."
   ]
  },
  {
   "cell_type": "code",
   "execution_count": null,
   "id": "9c88f0be-1200-467e-b80d-d9d33c730033",
   "metadata": {},
   "outputs": [],
   "source": []
  }
 ],
 "metadata": {
  "kernelspec": {
   "display_name": "Python 3 (ipykernel)",
   "language": "python",
   "name": "python3"
  },
  "language_info": {
   "codemirror_mode": {
    "name": "ipython",
    "version": 3
   },
   "file_extension": ".py",
   "mimetype": "text/x-python",
   "name": "python",
   "nbconvert_exporter": "python",
   "pygments_lexer": "ipython3",
   "version": "3.10.8"
  }
 },
 "nbformat": 4,
 "nbformat_minor": 5
}
