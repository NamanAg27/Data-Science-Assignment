{
 "cells": [
  {
   "cell_type": "markdown",
   "id": "507168d4-2eab-49d2-9538-8b6bb66bb230",
   "metadata": {},
   "source": [
    "## Answer 1"
   ]
  },
  {
   "cell_type": "code",
   "execution_count": 18,
   "id": "9a52aba6-465c-4970-b798-13fc3999e380",
   "metadata": {},
   "outputs": [],
   "source": [
    "class vehicle:\n",
    "    \n",
    "    def __init__(self,name_of_vehicle,max_speed, average_of_vehicle):\n",
    "        \n",
    "        self.name_of_vehicle = name_of_vehicle\n",
    "        self.max_speed = max_speed\n",
    "        self.average_of_vehicle = average_of_vehicle\n",
    "    \n",
    "    def vehicle_details():\n",
    "        return self.name_of_vehicle,self.max_speed,self.average_of_vehicle\n",
    "    "
   ]
  },
  {
   "cell_type": "markdown",
   "id": "a72ade10-a118-4711-b9bd-54a9ceec96f4",
   "metadata": {},
   "source": [
    "## Answer 2"
   ]
  },
  {
   "cell_type": "code",
   "execution_count": 19,
   "id": "2c07853c-96d5-41fe-8f63-2891548658d4",
   "metadata": {},
   "outputs": [],
   "source": [
    "class child_car(vehicle):\n",
    "    \n",
    "    def capacity(self,seating_capacity):\n",
    "    \n",
    "        return self.name_of_vehicle, seating_capacity"
   ]
  },
  {
   "cell_type": "code",
   "execution_count": 20,
   "id": "64acc229-0625-44e2-9cd9-f72981ffc238",
   "metadata": {},
   "outputs": [],
   "source": [
    "obj = child_car(\"Breeza\",220,24)"
   ]
  },
  {
   "cell_type": "code",
   "execution_count": 21,
   "id": "3298c401-2dd2-4bf9-be69-218134fcd2f8",
   "metadata": {},
   "outputs": [
    {
     "data": {
      "text/plain": [
       "('Breeza', 6)"
      ]
     },
     "execution_count": 21,
     "metadata": {},
     "output_type": "execute_result"
    }
   ],
   "source": [
    "obj.capacity(6)"
   ]
  },
  {
   "cell_type": "markdown",
   "id": "b9d48460-911c-42c3-b4fa-2b38946a0143",
   "metadata": {},
   "source": [
    "## Answer 3"
   ]
  },
  {
   "cell_type": "markdown",
   "id": "24fec4f5-fdf4-487f-8dac-e91417973029",
   "metadata": {},
   "source": [
    "When a class is derived from more than one base class it is called multiple Inheritance"
   ]
  },
  {
   "cell_type": "code",
   "execution_count": 26,
   "id": "5c722b14-ed22-4e02-a4d7-1b36feb50148",
   "metadata": {},
   "outputs": [],
   "source": [
    "## Example of multiple inheritance\n",
    "\n",
    "class car_detail:\n",
    "    def car_brand(self):\n",
    "        print(\"Hyundai\")"
   ]
  },
  {
   "cell_type": "code",
   "execution_count": 27,
   "id": "231c89de-aceb-4bff-9807-e9297f2c9454",
   "metadata": {},
   "outputs": [],
   "source": [
    "class car_detail1:\n",
    "    def car_variant(self):\n",
    "        print(\"Electric\")"
   ]
  },
  {
   "cell_type": "code",
   "execution_count": 28,
   "id": "08dedee0-2450-426f-b8c3-8642e7c41785",
   "metadata": {},
   "outputs": [],
   "source": [
    "class car_detail2:\n",
    "    def car_name(self):\n",
    "        print(\"Ioniq\")"
   ]
  },
  {
   "cell_type": "code",
   "execution_count": 29,
   "id": "1bcb7059-13c7-463d-8afc-cf10aaa60c47",
   "metadata": {},
   "outputs": [],
   "source": [
    "class final_details(car_detail,car_detail1,car_detail2):\n",
    "    pass"
   ]
  },
  {
   "cell_type": "code",
   "execution_count": 34,
   "id": "1f8ea32a-efae-43f2-88be-12c527dc8b1b",
   "metadata": {},
   "outputs": [],
   "source": [
    "obj_final_details=final_details()"
   ]
  },
  {
   "cell_type": "code",
   "execution_count": 35,
   "id": "6a98239b-440b-41ca-93c7-06f5165367de",
   "metadata": {},
   "outputs": [
    {
     "name": "stdout",
     "output_type": "stream",
     "text": [
      "Ioniq\n"
     ]
    }
   ],
   "source": [
    "obj_final_details.car_name()"
   ]
  },
  {
   "cell_type": "code",
   "execution_count": 36,
   "id": "b6cb0994-b939-4ca6-b6d9-79fa7faac11f",
   "metadata": {},
   "outputs": [
    {
     "name": "stdout",
     "output_type": "stream",
     "text": [
      "Electric\n"
     ]
    }
   ],
   "source": [
    "obj_final_details.car_variant()"
   ]
  },
  {
   "cell_type": "code",
   "execution_count": 37,
   "id": "52f07b51-1990-45e2-b02e-b81cea915245",
   "metadata": {},
   "outputs": [
    {
     "name": "stdout",
     "output_type": "stream",
     "text": [
      "Hyundai\n"
     ]
    }
   ],
   "source": [
    "obj_final_details.car_brand()"
   ]
  },
  {
   "cell_type": "markdown",
   "id": "7f2b8660-d9a4-42ab-9944-b25d762f420d",
   "metadata": {},
   "source": [
    "## Answer 4"
   ]
  },
  {
   "cell_type": "markdown",
   "id": "82dba263-ea52-4bb1-b119-82c03f43c9a2",
   "metadata": {},
   "source": [
    "A getter is a method that gets the value of a property. In OOPs this helps to access private attributes from a class.\n",
    "\n",
    "A setter is a method that sets the value of a property. In OOPs this helps to set the value to private attributes in a class."
   ]
  },
  {
   "cell_type": "code",
   "execution_count": 11,
   "id": "9e6dff7c-aac6-44fc-9337-1dba39db4c1d",
   "metadata": {},
   "outputs": [],
   "source": [
    "class car:\n",
    "    \n",
    "    def __init__(self, car_price , car_name):\n",
    "        self.__car_price = car_price\n",
    "        self.car_name = car_name\n",
    "## Getter\n",
    "\n",
    "    @property\n",
    "    def car_price_access(self):\n",
    "        return self.__car_price\n",
    "\n",
    "## Setter\n",
    "\n",
    "    @car_price_access.setter\n",
    "    def car_price_set(self , price):\n",
    "        if price <= 250000:\n",
    "            pass\n",
    "        else :\n",
    "            self.__car_price = price"
   ]
  },
  {
   "cell_type": "code",
   "execution_count": 12,
   "id": "0bc5a2fe-4ee9-4457-8ef3-f194089663b3",
   "metadata": {},
   "outputs": [],
   "source": [
    "vehicle=car(250000,\"Breeza\")"
   ]
  },
  {
   "cell_type": "code",
   "execution_count": 13,
   "id": "0c40d3e2-8f2f-4070-b139-d25ee007d947",
   "metadata": {},
   "outputs": [
    {
     "data": {
      "text/plain": [
       "'Breeza'"
      ]
     },
     "execution_count": 13,
     "metadata": {},
     "output_type": "execute_result"
    }
   ],
   "source": [
    "vehicle.car_name"
   ]
  },
  {
   "cell_type": "code",
   "execution_count": 14,
   "id": "b877cd42-8477-477e-94d2-472e5b6b101d",
   "metadata": {},
   "outputs": [
    {
     "data": {
      "text/plain": [
       "250000"
      ]
     },
     "execution_count": 14,
     "metadata": {},
     "output_type": "execute_result"
    }
   ],
   "source": [
    "vehicle.car_price_access"
   ]
  },
  {
   "cell_type": "code",
   "execution_count": 17,
   "id": "715147d5-0fc2-41a3-86d7-23f1eada1524",
   "metadata": {},
   "outputs": [],
   "source": [
    "vehicle.car_price_set = 269000"
   ]
  },
  {
   "cell_type": "code",
   "execution_count": 18,
   "id": "373715c9-acab-41e7-a7dc-55524983338e",
   "metadata": {},
   "outputs": [
    {
     "data": {
      "text/plain": [
       "269000"
      ]
     },
     "execution_count": 18,
     "metadata": {},
     "output_type": "execute_result"
    }
   ],
   "source": [
    "vehicle.car_price_access"
   ]
  },
  {
   "cell_type": "markdown",
   "id": "7d419ddc-6273-4856-89d7-126977bcac43",
   "metadata": {},
   "source": [
    "## Answer 5"
   ]
  },
  {
   "cell_type": "markdown",
   "id": "3a7c82a3-746b-4362-bc1c-69124a578619",
   "metadata": {},
   "source": [
    "Method overriding is a feature of object-oriented programming languages where the subclass or child class can provide the program with specific characteristics or a specific implementation process of data provided that are already defined in the parent class or superclass."
   ]
  },
  {
   "cell_type": "code",
   "execution_count": 20,
   "id": "f0f0d3e1-c524-46ae-8206-f0d8b8d3d13b",
   "metadata": {},
   "outputs": [],
   "source": [
    "class addition:\n",
    "    def result(self,a,b):\n",
    "        print(\"Addition\", a+b)"
   ]
  },
  {
   "cell_type": "code",
   "execution_count": 21,
   "id": "be84288d-0ab2-4124-afbe-b92da633f10d",
   "metadata": {},
   "outputs": [],
   "source": [
    "class multiplication:\n",
    "    def result(self,a,b):\n",
    "        print(\"Multiplication\",a*b)"
   ]
  },
  {
   "cell_type": "code",
   "execution_count": 22,
   "id": "385c69af-ef4c-425e-bbb6-b17399fdab4a",
   "metadata": {},
   "outputs": [],
   "source": [
    "res=multiplication()"
   ]
  },
  {
   "cell_type": "code",
   "execution_count": 25,
   "id": "36aa969c-999e-4c21-a2a3-7850276069aa",
   "metadata": {},
   "outputs": [
    {
     "name": "stdout",
     "output_type": "stream",
     "text": [
      "Multiplication 900\n"
     ]
    }
   ],
   "source": [
    "res.result(10,90)"
   ]
  },
  {
   "cell_type": "code",
   "execution_count": null,
   "id": "4be0d5bd-be67-4433-a320-e1f32d6c4cd1",
   "metadata": {},
   "outputs": [],
   "source": []
  }
 ],
 "metadata": {
  "kernelspec": {
   "display_name": "Python 3 (ipykernel)",
   "language": "python",
   "name": "python3"
  },
  "language_info": {
   "codemirror_mode": {
    "name": "ipython",
    "version": 3
   },
   "file_extension": ".py",
   "mimetype": "text/x-python",
   "name": "python",
   "nbconvert_exporter": "python",
   "pygments_lexer": "ipython3",
   "version": "3.10.8"
  }
 },
 "nbformat": 4,
 "nbformat_minor": 5
}
