{
 "cells": [
  {
   "cell_type": "markdown",
   "id": "9f9063ed-0442-4629-b82a-f6a151ba012d",
   "metadata": {},
   "source": [
    "### Q1. What is multiprocessing in python? Why is it useful?"
   ]
  },
  {
   "cell_type": "markdown",
   "id": "b5727290-42da-4688-9be6-8eb44f8f5789",
   "metadata": {},
   "source": [
    "Multiprocessing is a programming technique that involves dividing a program's work among multiple processes, each running on a separate CPU or core. In Python, the multiprocessing module provides a way to create and manage processes in a simple and straightforward way.\n",
    "\n",
    "Multiprocessing is useful because it allows a program to take advantage of the full power of a multi-core CPU, potentially speeding up computations or other resource-intensive tasks significantly. By distributing work among multiple processes, a program can avoid bottlenecks and utilize resources more efficiently.\n",
    "\n",
    "Multiprocessing can also make a program more robust and fault-tolerant. By running different parts of a program in separate processes, a failure or crash in one process is less likely to affect the entire program. Additionally, multiprocessing can help to make a program more responsive, by allowing it to perform I/O and other tasks in the background while other processes continue to run"
   ]
  },
  {
   "cell_type": "markdown",
   "id": "d0e5da6f-d1ad-46bc-b461-686c750cbe2b",
   "metadata": {},
   "source": [
    "### Q2. What are the differences between multiprocessing and multithreading?"
   ]
  },
  {
   "cell_type": "markdown",
   "id": "f5b6e5dd-e2e5-437b-b4de-c00abf8ae13c",
   "metadata": {},
   "source": [
    "Multiprocessing and multithreading are both techniques used for achieving parallelism in a program, but they differ in some fundamental ways:\n",
    "\n",
    "1. Architecture: Multithreading involves multiple threads running in the same process and sharing the same memory space, while multiprocessing involves multiple processes running in separate memory spaces.\n",
    "\n",
    "2. Concurrency: Multithreading achieves concurrency by allowing multiple threads to execute at the same time within a single process, while multiprocessing achieves concurrency by running multiple processes simultaneously.\n",
    "\n",
    "3. Performance: Multiprocessing can take advantage of multiple CPUs or cores, potentially providing better performance for compute-intensive tasks. Multithreading is better suited for I/O-bound tasks, where a single CPU is waiting for data to be fetched from disk or network.\n",
    "\n",
    "4. Resource management: Multithreading can be more efficient in terms of memory and resource usage, since threads share the same memory space and do not require as much overhead as separate processes. Multiprocessing can be less efficient in terms of memory and resource usage, since separate processes require their own memory space and may require additional overhead for communication and synchronization.\n",
    "\n",
    "5. Parallelism: Multiprocessing provides true parallelism, since multiple processes can run on separate CPUs or cores, while multithreading may provide only simulated parallelism, since threads must share the same CPU.\n",
    "\n",
    "Overall, the choice between multiprocessing and multithreading depends on the specific requirements and constraints of the program being developed."
   ]
  },
  {
   "cell_type": "markdown",
   "id": "918b2cd5-3533-480b-a2d9-f2430564424e",
   "metadata": {},
   "source": [
    "### Q3. Write a python code to create a process using the multiprocessing module."
   ]
  },
  {
   "cell_type": "code",
   "execution_count": 4,
   "id": "1473bdc0-fdc0-4530-aa92-d31fcdfa8e89",
   "metadata": {},
   "outputs": [
    {
     "name": "stdout",
     "output_type": "stream",
     "text": [
      "hello world \n",
      "hello world \n",
      "hello world \n",
      "hello world \n",
      "\n"
     ]
    }
   ],
   "source": [
    "import multiprocessing\n",
    "\n",
    "def test(i):\n",
    "    print(\"hello world \\n\"*i)\n",
    "    \n",
    "if __name__ == \"__main__\":\n",
    "    p=multiprocessing.Process(target= test, args=(4,))\n",
    "    p.start()\n",
    "    p.join()\n",
    "    \n",
    "    "
   ]
  },
  {
   "cell_type": "markdown",
   "id": "210bee47-63f4-482f-8200-dd61111ef138",
   "metadata": {},
   "source": [
    "### Q4. What is a multiprocessing pool in python? Why is it used?"
   ]
  },
  {
   "cell_type": "markdown",
   "id": "01f90675-2c60-406a-b8aa-262e2801938a",
   "metadata": {},
   "source": [
    "A multiprocessing pool in Python is a collection of worker processes used for executing a task in parallel. The pool distributes the work among its available worker processes and returns the results when they are done. The multiprocessing pool can be created using the multiprocessing.Pool() function in Python's multiprocessing module.\n",
    "\n",
    "A pool is useful when you want to execute a function with multiple sets of arguments in parallel. By using a pool, the work is automatically divided into smaller chunks and distributed among the available processes, which can greatly reduce the time it takes to execute the code. The results are then collected and returned to the main process, allowing you to efficiently process large amounts of data or perform complex computations."
   ]
  },
  {
   "cell_type": "markdown",
   "id": "ebfefc83-274d-4497-9abd-3ba16aeb789f",
   "metadata": {},
   "source": [
    "### Q5. How can we create a pool of worker processes in python using the multiprocessing module?"
   ]
  },
  {
   "cell_type": "code",
   "execution_count": 10,
   "id": "a374a974-9f26-4ac1-bd15-c370944b9f7d",
   "metadata": {},
   "outputs": [
    {
     "name": "stdout",
     "output_type": "stream",
     "text": [
      "worker 1\n",
      "worker 0\n",
      "\n",
      "\n",
      "worker 3\n",
      "worker 2\n",
      "\n",
      "\n",
      "worker 5\n",
      "worker 4\n",
      "\n",
      "\n",
      "worker 6\n",
      "worker 7\n",
      "\n",
      "\n",
      "Done!!\n"
     ]
    }
   ],
   "source": [
    "from time import sleep\n",
    "def worker(num):\n",
    "    print(f\"worker {num}\\n\")\n",
    "    sleep(1)\n",
    "    \n",
    "if __name__ == \"__main__\":\n",
    "    wp= multiprocessing.Pool(processes=2) #here 2 processes are used thats why output come in chunk of 2\n",
    "    \n",
    "    for i in range(8):\n",
    "        wp.apply_async(worker, args=(i,))\n",
    "    wp.close()   \n",
    "    wp.join()\n",
    "print(\"Done!!\")"
   ]
  },
  {
   "cell_type": "markdown",
   "id": "52fbcc75-c668-4d40-8a60-8717c9500455",
   "metadata": {},
   "source": [
    "### Q6. Write a python program to create 4 processes, each process should print a different number using the multiprocessing module in python."
   ]
  },
  {
   "cell_type": "code",
   "execution_count": 11,
   "id": "c04b0855-ec5c-462c-8aed-a7582fd7c28e",
   "metadata": {},
   "outputs": [
    {
     "name": "stdout",
     "output_type": "stream",
     "text": [
      "Process name Process-19  for 1\n",
      "Process name Process-20  for 2\n",
      "Process name Process-21  for 3\n",
      "Process name Process-22  for 4\n"
     ]
    }
   ],
   "source": [
    "from multiprocessing import *\n",
    "\n",
    "def number(i):\n",
    "    print(f\"Process name {current_process().name}  for {i}\")\n",
    "        \n",
    "if __name__ == \"__main__\":\n",
    "    lst= []\n",
    "    for j in range(4):\n",
    "        n1= Process(target= number, args=(j+1,))\n",
    "        lst.append(lst)\n",
    "        n1.start()\n",
    "        \n",
    "    for j in lst:\n",
    "        n1.join()"
   ]
  },
  {
   "cell_type": "code",
   "execution_count": null,
   "id": "3a279fd7-93f0-4eb0-84af-09a1bc7fcbd1",
   "metadata": {},
   "outputs": [],
   "source": []
  }
 ],
 "metadata": {
  "kernelspec": {
   "display_name": "Python 3 (ipykernel)",
   "language": "python",
   "name": "python3"
  },
  "language_info": {
   "codemirror_mode": {
    "name": "ipython",
    "version": 3
   },
   "file_extension": ".py",
   "mimetype": "text/x-python",
   "name": "python",
   "nbconvert_exporter": "python",
   "pygments_lexer": "ipython3",
   "version": "3.10.8"
  }
 },
 "nbformat": 4,
 "nbformat_minor": 5
}
