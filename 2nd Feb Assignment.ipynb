{
 "cells": [
  {
   "cell_type": "markdown",
   "id": "c240606b-81e1-4400-abed-66887721b9d8",
   "metadata": {},
   "source": [
    "## Answer 1"
   ]
  },
  {
   "cell_type": "markdown",
   "id": "df1d2702-c72b-4250-b1da-11c96608ddee",
   "metadata": {},
   "source": [
    "Tuple is a collection which is ordered and unchangeable. Allows duplicate members. Tuples are used to store multiple items in a single variable. Tuples are written with round brackets.\n",
    "\n",
    "Yes, tuples are immutable."
   ]
  },
  {
   "cell_type": "markdown",
   "id": "88d0e3dd-4984-4fac-997d-14b374854d06",
   "metadata": {},
   "source": [
    "## Answer 2"
   ]
  },
  {
   "cell_type": "markdown",
   "id": "8f71bb25-06f2-4331-828b-5fb9b156a5c1",
   "metadata": {},
   "source": [
    "There are only two tuple methods count() and index() that a tuple object can call. Tuples have only 2 methods because tuples are unchangeable. Only index() and count() methods don't modify tuples."
   ]
  },
  {
   "cell_type": "code",
   "execution_count": 1,
   "id": "368bbfb1-14c8-42cf-afd5-2bf86cc67929",
   "metadata": {},
   "outputs": [],
   "source": [
    "## Exmaple for Answer 2\n",
    "# here 'a' is a tuple\n",
    "a=(1,2,3,4,1)"
   ]
  },
  {
   "cell_type": "code",
   "execution_count": 2,
   "id": "9bfb6fe7-8373-464c-8508-d26fb3b3c4bc",
   "metadata": {},
   "outputs": [
    {
     "data": {
      "text/plain": [
       "2"
      ]
     },
     "execution_count": 2,
     "metadata": {},
     "output_type": "execute_result"
    }
   ],
   "source": [
    "# count method counts, how many times the element has in tuple. Here '1' is 2 times so the method returns the same.\n",
    "a.count(1)"
   ]
  },
  {
   "cell_type": "code",
   "execution_count": 3,
   "id": "1a554c9f-ac87-446e-af90-67e73dd4e171",
   "metadata": {},
   "outputs": [
    {
     "data": {
      "text/plain": [
       "1"
      ]
     },
     "execution_count": 3,
     "metadata": {},
     "output_type": "execute_result"
    }
   ],
   "source": [
    "# here '2' is only one time so the method give 1 as count.\n",
    "a.count(2)"
   ]
  },
  {
   "cell_type": "code",
   "execution_count": 4,
   "id": "7476842d-070b-4285-987d-60042aa7649b",
   "metadata": {},
   "outputs": [
    {
     "data": {
      "text/plain": [
       "0"
      ]
     },
     "execution_count": 4,
     "metadata": {},
     "output_type": "execute_result"
    }
   ],
   "source": [
    "# index method gives the index postion of the element, here '1' is present on 0 index position\n",
    "a.index(1)"
   ]
  },
  {
   "cell_type": "code",
   "execution_count": 5,
   "id": "d3a17f43-2f8e-437e-a038-c2a435380114",
   "metadata": {},
   "outputs": [
    {
     "data": {
      "text/plain": [
       "4"
      ]
     },
     "execution_count": 5,
     "metadata": {},
     "output_type": "execute_result"
    }
   ],
   "source": [
    "# here if I want to know the position of 2nd '1', I will give start position after the 1st indexed '1'.\n",
    "a.index(1,2)"
   ]
  },
  {
   "cell_type": "markdown",
   "id": "145a4a1d-e087-4354-84b7-269486a33ccf",
   "metadata": {},
   "source": [
    "## Answer 3"
   ]
  },
  {
   "cell_type": "markdown",
   "id": "8e326c1a-4ef8-41a8-9d70-1589d02b7516",
   "metadata": {},
   "source": [
    "Set is the collection of datatypes in python which do not allow duplicate items."
   ]
  },
  {
   "cell_type": "code",
   "execution_count": 6,
   "id": "1e55af9a-915c-4c57-9af9-57ea5e5a9814",
   "metadata": {},
   "outputs": [
    {
     "name": "stdout",
     "output_type": "stream",
     "text": [
      "{1, 2, 3, 4}\n"
     ]
    }
   ],
   "source": [
    "List = [1, 1, 1, 2, 1, 3, 1, 4, 2, 1, 2, 2, 2, 3, 2, 4, 3, 1, 3, 2, 3, 3, 3, 4, 4, 1, 4, 2, 4, 3, 4, 4]\n",
    "b=set(List)\n",
    "print(b)"
   ]
  },
  {
   "cell_type": "markdown",
   "id": "98e4aab9-d4d4-4dff-a3a7-b9ef6715e721",
   "metadata": {},
   "source": [
    "## Answer 4"
   ]
  },
  {
   "cell_type": "markdown",
   "id": "3b2675f5-f44e-403c-87e0-ba3196962d7d",
   "metadata": {},
   "source": [
    "set.update() adds all missing elements to the set on which it is called. whereas set.union() modify the set permanently on which it is called by adding the missing elements."
   ]
  },
  {
   "cell_type": "code",
   "execution_count": 24,
   "id": "0070e1f4-f45f-4f8b-9a1d-5a1e64b9686d",
   "metadata": {},
   "outputs": [
    {
     "name": "stdout",
     "output_type": "stream",
     "text": [
      "{1, 2, 3, 4, 5, 6, 7, 8}\n",
      "{1, 2, 3, 4}\n",
      "{8, 5, 6, 7}\n"
     ]
    }
   ],
   "source": [
    "a={1,2,3,4}\n",
    "b={5,6,7,8}\n",
    "print(a.union(b))\n",
    "print(a)\n",
    "print(b)"
   ]
  },
  {
   "cell_type": "code",
   "execution_count": 22,
   "id": "a2d6d07e-7c9c-4cd8-a26a-9512a91e8c85",
   "metadata": {},
   "outputs": [
    {
     "name": "stdout",
     "output_type": "stream",
     "text": [
      "{1, 2, 3, 4, 5, 6, 7, 8}\n"
     ]
    }
   ],
   "source": [
    "a.update(b)\n",
    "print(a)"
   ]
  },
  {
   "cell_type": "markdown",
   "id": "19e5b478-80b5-41d4-a640-35b4f8275312",
   "metadata": {},
   "source": [
    "## Answer 5"
   ]
  },
  {
   "cell_type": "markdown",
   "id": "500b8ac8-2f1b-4ba2-b291-1d351d375659",
   "metadata": {},
   "source": [
    "Dictionaries are used to store data values in key:value pairs. A dictionary is a collection which is ordered(version 3.7), changeable and do not allow duplicates.\n",
    "\n"
   ]
  },
  {
   "cell_type": "code",
   "execution_count": 45,
   "id": "26254092-9dd5-4f32-baae-9acb8bf5ebff",
   "metadata": {},
   "outputs": [],
   "source": [
    "dict1={1:'p',2:'q',3:'r',4:'s'}"
   ]
  },
  {
   "cell_type": "code",
   "execution_count": 46,
   "id": "6c716ae7-4bc2-46a5-aae8-cefd0b883c0b",
   "metadata": {},
   "outputs": [
    {
     "data": {
      "text/plain": [
       "dict"
      ]
     },
     "execution_count": 46,
     "metadata": {},
     "output_type": "execute_result"
    }
   ],
   "source": [
    "type(dict1)"
   ]
  },
  {
   "cell_type": "markdown",
   "id": "5aae5d32-f1d2-4acc-86ba-d06049297a02",
   "metadata": {},
   "source": [
    "## Answer 6"
   ]
  },
  {
   "cell_type": "markdown",
   "id": "d3c91ec8-863e-423a-88bc-2de16071ebc3",
   "metadata": {},
   "source": [
    "We can create a nested dictionary."
   ]
  },
  {
   "cell_type": "code",
   "execution_count": 31,
   "id": "669aafe3-9d33-4131-8f41-103d9f9bd21a",
   "metadata": {},
   "outputs": [
    {
     "data": {
      "text/plain": [
       "dict"
      ]
     },
     "execution_count": 31,
     "metadata": {},
     "output_type": "execute_result"
    }
   ],
   "source": [
    "dict2={5:'s',6:'t',7:'u',11:{8:'p',9:'q',10:'r'}}\n",
    "\n",
    "type(dict2)"
   ]
  },
  {
   "cell_type": "markdown",
   "id": "2a1d30d1-1010-41c2-89f0-a64eebeff860",
   "metadata": {},
   "source": [
    "## Answer 7"
   ]
  },
  {
   "cell_type": "code",
   "execution_count": 48,
   "id": "e6a78cb6-934f-456b-9418-f4b3f918b0b6",
   "metadata": {},
   "outputs": [
    {
     "name": "stdout",
     "output_type": "stream",
     "text": [
      "{'language': 'Python', 'course': 'Data Science Masters', 'Topics': ['Python', 'Machine Learing', 'Deep Learning']} \n",
      "\n"
     ]
    }
   ],
   "source": [
    "dict3 = {'language' : 'Python', 'course': 'Data Science Masters'}\n",
    "\n",
    "dict3.setdefault('Topics',[]).extend(['Python','Machine Learing','Deep Learning'])\n",
    "\n",
    "print(dict3)"
   ]
  },
  {
   "cell_type": "markdown",
   "id": "d9c2765b-6a99-49b5-a485-d5ecd14ef9ae",
   "metadata": {},
   "source": [
    "## Answer 8"
   ]
  },
  {
   "cell_type": "code",
   "execution_count": 49,
   "id": "d705baf5-d3ef-4a12-b230-81bd189157c3",
   "metadata": {},
   "outputs": [],
   "source": [
    "dict4 = {'Sport': 'Cricket' , 'Teams': ['India', 'Australia', 'England', 'South Africa', 'Sri Lanka', 'New Zealand']}\n"
   ]
  },
  {
   "cell_type": "code",
   "execution_count": 50,
   "id": "f3193c7b-8e3e-4139-9d0b-67d8340a3db3",
   "metadata": {},
   "outputs": [
    {
     "data": {
      "text/plain": [
       "dict_items([(1, 'p'), (2, 'q'), (3, 'r'), (4, 's')])"
      ]
     },
     "execution_count": 50,
     "metadata": {},
     "output_type": "execute_result"
    }
   ],
   "source": [
    "dict1.items()"
   ]
  },
  {
   "cell_type": "code",
   "execution_count": 51,
   "id": "e1764764-8ef7-41e2-917d-d211a1087398",
   "metadata": {},
   "outputs": [
    {
     "data": {
      "text/plain": [
       "dict_keys([1, 2, 3, 4])"
      ]
     },
     "execution_count": 51,
     "metadata": {},
     "output_type": "execute_result"
    }
   ],
   "source": [
    "dict1.keys()"
   ]
  },
  {
   "cell_type": "code",
   "execution_count": 52,
   "id": "c958f9e5-5877-4a79-92f9-1bf7cf435c19",
   "metadata": {},
   "outputs": [
    {
     "data": {
      "text/plain": [
       "dict_values(['p', 'q', 'r', 's'])"
      ]
     },
     "execution_count": 52,
     "metadata": {},
     "output_type": "execute_result"
    }
   ],
   "source": [
    "dict1.values()"
   ]
  },
  {
   "cell_type": "code",
   "execution_count": null,
   "id": "71ad850c-23b1-48f4-9626-8c15e7582012",
   "metadata": {},
   "outputs": [],
   "source": []
  }
 ],
 "metadata": {
  "kernelspec": {
   "display_name": "Python 3 (ipykernel)",
   "language": "python",
   "name": "python3"
  },
  "language_info": {
   "codemirror_mode": {
    "name": "ipython",
    "version": 3
   },
   "file_extension": ".py",
   "mimetype": "text/x-python",
   "name": "python",
   "nbconvert_exporter": "python",
   "pygments_lexer": "ipython3",
   "version": "3.10.8"
  }
 },
 "nbformat": 4,
 "nbformat_minor": 5
}
