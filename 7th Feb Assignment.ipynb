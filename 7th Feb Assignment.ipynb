{
 "cells": [
  {
   "cell_type": "markdown",
   "id": "9ab8676f-f3f4-4cb0-bf41-43342a3ba529",
   "metadata": {},
   "source": [
    "## Answer 1"
   ]
  },
  {
   "cell_type": "code",
   "execution_count": 2,
   "id": "cc91dac6-9ebc-43a1-9169-c22c274164c0",
   "metadata": {},
   "outputs": [
    {
     "name": "stdin",
     "output_type": "stream",
     "text": [
      "Enter Your Password\n",
      " NAman@34%^\n"
     ]
    },
    {
     "name": "stdout",
     "output_type": "stream",
     "text": [
      "Valid Password\n"
     ]
    }
   ],
   "source": [
    "def password():\n",
    "\n",
    "    var=input(\"Enter Your Password\"\"\\n\")\n",
    "\n",
    "    num=\"1234567890\"\n",
    "\n",
    "    j=\"!#$%&'()*+,-./:;<=>?@[\\]^_`{|}~\"\n",
    "\n",
    "    b,c,d,a=0,0,0,0\n",
    "\n",
    "    if len(var) >= 10:\n",
    "\n",
    "        for i in list(var):\n",
    "            if i.isupper() == True:\n",
    "                c+=1\n",
    "            if i.islower() == True:\n",
    "                d+=1\n",
    "            if i in list(j) :\n",
    "                b+=1\n",
    "            if i in list(num):\n",
    "                a+=1\n",
    "        \n",
    "    \n",
    "    if c>=2 and d>=2 and b>=3 and a>=1:\n",
    "        print (\"Valid Password\")\n",
    "    else:\n",
    "        print(\"Password is Invalid\")\n",
    "    \n",
    "password()"
   ]
  },
  {
   "cell_type": "markdown",
   "id": "6cb17bc2-226a-4d65-a930-790e0a7ce0a4",
   "metadata": {},
   "source": [
    "## Answer 2"
   ]
  },
  {
   "cell_type": "code",
   "execution_count": 161,
   "id": "89e28a08-984a-489c-95d2-9568fa900b7b",
   "metadata": {},
   "outputs": [
    {
     "name": "stdin",
     "output_type": "stream",
     "text": [
      "particular letter K\n",
      "Enter your String kn\n"
     ]
    },
    {
     "name": "stdout",
     "output_type": "stream",
     "text": [
      "[True]\n"
     ]
    }
   ],
   "source": [
    "## Check if the string starts with a particular letter\n",
    "# Using List Comprehension\n",
    "\n",
    "n=input(\"particular letter\").lower()\n",
    "letter=input(\"Enter your String\").lower()\n",
    "\n",
    "new=[letter[0]==n]\n",
    "\n",
    "print(new)"
   ]
  },
  {
   "cell_type": "code",
   "execution_count": 130,
   "id": "122c2594-3b44-454f-9ae7-31f4effb3f7b",
   "metadata": {},
   "outputs": [
    {
     "name": "stdin",
     "output_type": "stream",
     "text": [
      "Enter your string 777888888\n"
     ]
    },
    {
     "data": {
      "text/plain": [
       "True"
      ]
     },
     "execution_count": 130,
     "metadata": {},
     "output_type": "execute_result"
    }
   ],
   "source": [
    "## Check if the string is numeric\n",
    "## using lambda function\n",
    "\n",
    "num=str(input(\"Enter your string\"))\n",
    "\n",
    "check=lambda x:x.isdigit()\n",
    "\n",
    "check(num)"
   ]
  },
  {
   "cell_type": "code",
   "execution_count": 162,
   "id": "ceea4f6c-a780-40a3-bab7-20465081d4ed",
   "metadata": {},
   "outputs": [
    {
     "data": {
      "text/plain": [
       "[('orange', 80), ('mango', 99), ('grapes', 1000)]"
      ]
     },
     "execution_count": 162,
     "metadata": {},
     "output_type": "execute_result"
    }
   ],
   "source": [
    "## Sort a list of tuples having fruit names and their quantity\n",
    "## using lambda\n",
    "\n",
    "lst1= [(\"mango\",99),(\"orange\",80), (\"grapes\", 1000)]\n",
    "\n",
    "sorted(lst1, key = lambda x: x[1])\n",
    "\n",
    "     "
   ]
  },
  {
   "cell_type": "code",
   "execution_count": 36,
   "id": "4df9810a-9d22-4c96-a37e-ead1ed49636f",
   "metadata": {},
   "outputs": [
    {
     "data": {
      "text/plain": [
       "[1, 4, 9, 16, 25, 36, 49, 64, 81, 100]"
      ]
     },
     "execution_count": 36,
     "metadata": {},
     "output_type": "execute_result"
    }
   ],
   "source": [
    "#  Find the squares of numbers from 1 to 10\n",
    "# using Map & lambda\n",
    "\n",
    "lst=range(1,11)\n",
    "\n",
    "list(map(lambda x : x*x,lst))"
   ]
  },
  {
   "cell_type": "code",
   "execution_count": 42,
   "id": "791c661e-b6e3-4d92-b9ec-70d98747b029",
   "metadata": {},
   "outputs": [
    {
     "data": {
      "text/plain": [
       "[1.0,\n",
       " 1.2599210498948732,\n",
       " 1.4422495703074083,\n",
       " 1.5874010519681994,\n",
       " 1.7099759466766968,\n",
       " 1.8171205928321397,\n",
       " 1.912931182772389,\n",
       " 2.0,\n",
       " 2.080083823051904,\n",
       " 2.154434690031884]"
      ]
     },
     "execution_count": 42,
     "metadata": {},
     "output_type": "execute_result"
    }
   ],
   "source": [
    "# Find the cube root of numbers from 1 to 10\n",
    "# using Map & lambda\n",
    "\n",
    "lst2=range(1,11)\n",
    "\n",
    "list(map(lambda x: x**(1/3),lst2))"
   ]
  },
  {
   "cell_type": "code",
   "execution_count": 90,
   "id": "f3ad6d64-d29c-429f-80fa-7b08b3a1c434",
   "metadata": {},
   "outputs": [
    {
     "name": "stdin",
     "output_type": "stream",
     "text": [
      "Enter the Number 78\n"
     ]
    },
    {
     "name": "stdout",
     "output_type": "stream",
     "text": [
      "Number is Even\n"
     ]
    }
   ],
   "source": [
    "# Check if a given number is even\n",
    "## using lambda \n",
    "\n",
    "num=int(input('Enter the Number'))\n",
    "\n",
    "even=lambda x: x %2==0\n",
    "\n",
    "if even(num)==True:\n",
    "    print(\"Number is Even\")\n",
    "else:\n",
    "    print(\"Number is not Even\")"
   ]
  },
  {
   "cell_type": "code",
   "execution_count": 88,
   "id": "20214de9-f3ba-443d-945c-ac964712f219",
   "metadata": {},
   "outputs": [
    {
     "data": {
      "text/plain": [
       "[1, 3, 5, 7, 9]"
      ]
     },
     "execution_count": 88,
     "metadata": {},
     "output_type": "execute_result"
    }
   ],
   "source": [
    "# Filter odd numbers from the given list.\n",
    "# using filter and lambda\n",
    "\n",
    "lst3=range(1,11)\n",
    "\n",
    "list(filter(lambda x: x%2!=0,lst3))"
   ]
  },
  {
   "cell_type": "code",
   "execution_count": 89,
   "id": "916d4368-b09d-4f5d-9093-515134cc367f",
   "metadata": {},
   "outputs": [
    {
     "name": "stdout",
     "output_type": "stream",
     "text": [
      "[1, 2, 3, 4, 5, 6, 0, -1, -2, -3, -4, -5]\n"
     ]
    }
   ],
   "source": [
    "## Sort a list of integers into positive and negative integers lists.\n",
    "## Using List Comprehension\n",
    "\n",
    "lst4=[1,2,3,4,5,6,-1,-2,-3,-4,-5,0]\n",
    "sort=[x for x in lst4 if x>=0]+[x for x in lst4 if x<0]\n",
    "\n",
    "print(sort)\n"
   ]
  },
  {
   "cell_type": "code",
   "execution_count": null,
   "id": "189d6707-0fa1-4ff4-b42c-b75ac042d9cd",
   "metadata": {},
   "outputs": [],
   "source": []
  }
 ],
 "metadata": {
  "kernelspec": {
   "display_name": "Python 3 (ipykernel)",
   "language": "python",
   "name": "python3"
  },
  "language_info": {
   "codemirror_mode": {
    "name": "ipython",
    "version": 3
   },
   "file_extension": ".py",
   "mimetype": "text/x-python",
   "name": "python",
   "nbconvert_exporter": "python",
   "pygments_lexer": "ipython3",
   "version": "3.10.8"
  }
 },
 "nbformat": 4,
 "nbformat_minor": 5
}
