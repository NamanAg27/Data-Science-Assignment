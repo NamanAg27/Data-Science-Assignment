{
 "cells": [
  {
   "cell_type": "markdown",
   "id": "f08a62d1-4905-417e-b652-7a020b17943d",
   "metadata": {},
   "source": [
    "## Answer 1"
   ]
  },
  {
   "cell_type": "markdown",
   "id": "7cfc8a34-1a68-427b-965e-c9d9ad083af1",
   "metadata": {},
   "source": [
    "Here are a few reasons why it's a good idea to inherit from the Exception class when creating a custom exception:\n",
    "\n",
    "__Consistency with built-in exceptions:__ By inheriting from Exception, you ensure that your custom exception follows the same conventions as the built-in exceptions in Python. \n",
    "\n",
    "__Easy to catch:__ Since Exception is the base class for all exceptions in Python, catching your custom exception is as easy as catching any other exception.\n",
    "\n",
    "__Additional functionality:__ The Exception class provides a lot of useful functionality for defining and handling exceptions, such as the ability to include a message with the exception, as well as methods for customizing how the exception is printed or formatted.\n",
    "\n",
    "__Future-proofing:__ Inheriting from Exception ensures that your custom exception will continue to work as expected in future versions of Python. \n",
    "\n",
    "Overall, while it's not strictly necessary to inherit from Exception when creating a custom exception, it's a good practice to follow since it provides a lot of useful functionality and ensures consistency with the rest of the Python language."
   ]
  },
  {
   "cell_type": "markdown",
   "id": "8904dfc7-6f51-4526-8bb2-218132c47cb6",
   "metadata": {},
   "source": [
    "## Answer 2"
   ]
  },
  {
   "cell_type": "code",
   "execution_count": 1,
   "id": "abfae242-67da-4648-8f9d-6a5466a68cc9",
   "metadata": {},
   "outputs": [
    {
     "name": "stdout",
     "output_type": "stream",
     "text": [
      "BaseException\n",
      "    Exception\n",
      "        TypeError\n",
      "            FloatOperation\n",
      "            MultipartConversionError\n",
      "        StopAsyncIteration\n",
      "        StopIteration\n",
      "        ImportError\n",
      "            ModuleNotFoundError\n",
      "            ZipImportError\n",
      "        OSError\n",
      "            ConnectionError\n",
      "                BrokenPipeError\n",
      "                ConnectionAbortedError\n",
      "                ConnectionRefusedError\n",
      "                ConnectionResetError\n",
      "                    RemoteDisconnected\n",
      "            BlockingIOError\n",
      "            ChildProcessError\n",
      "            FileExistsError\n",
      "            FileNotFoundError\n",
      "            IsADirectoryError\n",
      "            NotADirectoryError\n",
      "            InterruptedError\n",
      "                InterruptedSystemCall\n",
      "            PermissionError\n",
      "            ProcessLookupError\n",
      "            TimeoutError\n",
      "            UnsupportedOperation\n",
      "            itimer_error\n",
      "            herror\n",
      "            gaierror\n",
      "            SSLError\n",
      "                SSLCertVerificationError\n",
      "                SSLZeroReturnError\n",
      "                SSLWantWriteError\n",
      "                SSLWantReadError\n",
      "                SSLSyscallError\n",
      "                SSLEOFError\n",
      "            Error\n",
      "                SameFileError\n",
      "            SpecialFileError\n",
      "            ExecError\n",
      "            ReadError\n",
      "            URLError\n",
      "                HTTPError\n",
      "                ContentTooShortError\n",
      "            BadGzipFile\n",
      "        EOFError\n",
      "            IncompleteReadError\n",
      "        RuntimeError\n",
      "            RecursionError\n",
      "            NotImplementedError\n",
      "                ZMQVersionError\n",
      "                StdinNotImplementedError\n",
      "            _DeadlockError\n",
      "            BrokenBarrierError\n",
      "            BrokenExecutor\n",
      "                BrokenThreadPool\n",
      "            SendfileNotAvailableError\n",
      "            ExtractionError\n",
      "            VariableError\n",
      "        NameError\n",
      "            UnboundLocalError\n",
      "        AttributeError\n",
      "            FrozenInstanceError\n",
      "        SyntaxError\n",
      "            IndentationError\n",
      "                TabError\n",
      "        LookupError\n",
      "            IndexError\n",
      "            KeyError\n",
      "                NoSuchKernel\n",
      "                UnknownBackend\n",
      "            CodecRegistryError\n",
      "        ValueError\n",
      "            UnicodeError\n",
      "                UnicodeEncodeError\n",
      "                UnicodeDecodeError\n",
      "                UnicodeTranslateError\n",
      "            UnsupportedOperation\n",
      "            JSONDecodeError\n",
      "            SSLCertVerificationError\n",
      "            Error\n",
      "            UnsupportedDigestmodError\n",
      "            IllegalMonthError\n",
      "            IllegalWeekdayError\n",
      "            ParserError\n",
      "            ClassNotFound\n",
      "            ClipboardEmpty\n",
      "            MessageDefect\n",
      "                NoBoundaryInMultipartDefect\n",
      "                StartBoundaryNotFoundDefect\n",
      "                CloseBoundaryNotFoundDefect\n",
      "                FirstHeaderLineIsContinuationDefect\n",
      "                MisplacedEnvelopeHeaderDefect\n",
      "                MissingHeaderBodySeparatorDefect\n",
      "                MultipartInvariantViolationDefect\n",
      "                InvalidMultipartContentTransferEncodingDefect\n",
      "                UndecodableBytesDefect\n",
      "                InvalidBase64PaddingDefect\n",
      "                InvalidBase64CharactersDefect\n",
      "                InvalidBase64LengthDefect\n",
      "                HeaderDefect\n",
      "                    InvalidHeaderDefect\n",
      "                    HeaderMissingRequiredValue\n",
      "                    NonPrintableDefect\n",
      "                    ObsoleteHeaderDefect\n",
      "                    NonASCIILocalPartDefect\n",
      "                    InvalidDateDefect\n",
      "            MacroToEdit\n",
      "            InvalidFileException\n",
      "            UnequalIterablesError\n",
      "            InvalidVersion\n",
      "            _InvalidELFFileHeader\n",
      "            InvalidWheelFilename\n",
      "            InvalidSdistFilename\n",
      "            InvalidSpecifier\n",
      "            InvalidMarker\n",
      "            UndefinedComparison\n",
      "            UndefinedEnvironmentName\n",
      "            InvalidRequirement\n",
      "                RequirementParseError\n",
      "            InvalidVersion\n",
      "        AssertionError\n",
      "        ArithmeticError\n",
      "            FloatingPointError\n",
      "            OverflowError\n",
      "            ZeroDivisionError\n",
      "                DivisionByZero\n",
      "                DivisionUndefined\n",
      "            DecimalException\n",
      "                Clamped\n",
      "                Rounded\n",
      "                    Underflow\n",
      "                    Overflow\n",
      "                Inexact\n",
      "                    Underflow\n",
      "                    Overflow\n",
      "                Subnormal\n",
      "                    Underflow\n",
      "                DivisionByZero\n",
      "                FloatOperation\n",
      "                InvalidOperation\n",
      "                    ConversionSyntax\n",
      "                    DivisionImpossible\n",
      "                    DivisionUndefined\n",
      "                    InvalidContext\n",
      "        SystemError\n",
      "            CodecRegistryError\n",
      "        ReferenceError\n",
      "        MemoryError\n",
      "        BufferError\n",
      "        Warning\n",
      "            UserWarning\n",
      "                GetPassWarning\n",
      "                FormatterWarning\n",
      "            EncodingWarning\n",
      "            DeprecationWarning\n",
      "                ProvisionalWarning\n",
      "            PendingDeprecationWarning\n",
      "            SyntaxWarning\n",
      "            RuntimeWarning\n",
      "                ProactorSelectorThreadWarning\n",
      "                UnknownTimezoneWarning\n",
      "                PEP440Warning\n",
      "            FutureWarning\n",
      "                ProvisionalCompleterWarning\n",
      "            ImportWarning\n",
      "            UnicodeWarning\n",
      "            BytesWarning\n",
      "            ResourceWarning\n",
      "            DeprecatedTzFormatWarning\n",
      "            PkgResourcesDeprecationWarning\n",
      "        _OptionError\n",
      "        _Error\n",
      "        error\n",
      "        Verbose\n",
      "        Error\n",
      "        SubprocessError\n",
      "            CalledProcessError\n",
      "            TimeoutExpired\n",
      "        TokenError\n",
      "        StopTokenizing\n",
      "        ClassFoundException\n",
      "        EndOfBlock\n",
      "        TraitError\n",
      "        Error\n",
      "        Error\n",
      "            CancelledError\n",
      "            TimeoutError\n",
      "            InvalidStateError\n",
      "        _GiveupOnSendfile\n",
      "        error\n",
      "        Incomplete\n",
      "        TimeoutError\n",
      "        InvalidStateError\n",
      "        LimitOverrunError\n",
      "        QueueEmpty\n",
      "        QueueFull\n",
      "        Empty\n",
      "        Full\n",
      "        ArgumentError\n",
      "        ZMQBaseError\n",
      "            ZMQError\n",
      "                ContextTerminated\n",
      "                Again\n",
      "                InterruptedSystemCall\n",
      "            ZMQBindError\n",
      "            NotDone\n",
      "        PickleError\n",
      "            PicklingError\n",
      "            UnpicklingError\n",
      "        _Stop\n",
      "        ArgumentError\n",
      "        ArgumentTypeError\n",
      "        ConfigError\n",
      "            ConfigLoaderError\n",
      "                ArgumentError\n",
      "            ConfigFileNotFound\n",
      "        ConfigurableError\n",
      "            MultipleInstanceError\n",
      "        ApplicationError\n",
      "        error\n",
      "        TimeoutError\n",
      "        error\n",
      "        ReturnValueIgnoredError\n",
      "        KeyReuseError\n",
      "        UnknownKeyError\n",
      "        LeakedCallbackError\n",
      "        BadYieldError\n",
      "        ReturnValueIgnoredError\n",
      "        Return\n",
      "        InvalidPortNumber\n",
      "        error\n",
      "        LZMAError\n",
      "        RegistryError\n",
      "        _GiveupOnFastCopy\n",
      "        Error\n",
      "            NoSectionError\n",
      "            DuplicateSectionError\n",
      "            DuplicateOptionError\n",
      "            NoOptionError\n",
      "            InterpolationError\n",
      "                InterpolationMissingOptionError\n",
      "                InterpolationSyntaxError\n",
      "                InterpolationDepthError\n",
      "            ParsingError\n",
      "                MissingSectionHeaderError\n",
      "        NoIPAddresses\n",
      "        BadZipFile\n",
      "        LargeZipFile\n",
      "        BadEntryPoint\n",
      "        NoSuchEntryPoint\n",
      "        DuplicateKernelError\n",
      "        ErrorDuringImport\n",
      "        NotOneValueFound\n",
      "        CannotEval\n",
      "        OptionError\n",
      "        BdbQuit\n",
      "        Restart\n",
      "        ExceptionPexpect\n",
      "            EOF\n",
      "            TIMEOUT\n",
      "        PtyProcessError\n",
      "        FindCmdError\n",
      "        HomeDirError\n",
      "        ProfileDirError\n",
      "        IPythonCoreError\n",
      "            TryNext\n",
      "            UsageError\n",
      "            StdinNotImplementedError\n",
      "        InputRejected\n",
      "        GetoptError\n",
      "        ErrorToken\n",
      "        PrefilterError\n",
      "        AliasError\n",
      "            InvalidAliasError\n",
      "        Error\n",
      "            InterfaceError\n",
      "            DatabaseError\n",
      "                InternalError\n",
      "                OperationalError\n",
      "                ProgrammingError\n",
      "                IntegrityError\n",
      "                DataError\n",
      "                NotSupportedError\n",
      "        Warning\n",
      "        SpaceInInput\n",
      "        DOMException\n",
      "            IndexSizeErr\n",
      "            DomstringSizeErr\n",
      "            HierarchyRequestErr\n",
      "            WrongDocumentErr\n",
      "            InvalidCharacterErr\n",
      "            NoDataAllowedErr\n",
      "            NoModificationAllowedErr\n",
      "            NotFoundErr\n",
      "            NotSupportedErr\n",
      "            InuseAttributeErr\n",
      "            InvalidStateErr\n",
      "            SyntaxErr\n",
      "            InvalidModificationErr\n",
      "            NamespaceErr\n",
      "            InvalidAccessErr\n",
      "            ValidationErr\n",
      "        ValidationError\n",
      "        EditReadOnlyBuffer\n",
      "        _Retry\n",
      "        InvalidLayoutError\n",
      "        HeightIsUnknownError\n",
      "        ParserSyntaxError\n",
      "        InternalParseError\n",
      "        _PositionUpdatingFinished\n",
      "        SimpleGetItemNotFound\n",
      "        UncaughtAttributeError\n",
      "        HasNoContext\n",
      "        ParamIssue\n",
      "        _JediError\n",
      "            InternalError\n",
      "            WrongVersion\n",
      "            RefactoringError\n",
      "        OnErrorLeaf\n",
      "        InvalidPythonEnvironment\n",
      "        MessageError\n",
      "            MessageParseError\n",
      "                HeaderParseError\n",
      "                BoundaryError\n",
      "            MultipartConversionError\n",
      "            CharsetError\n",
      "        Error\n",
      "        HTTPException\n",
      "            NotConnected\n",
      "            InvalidURL\n",
      "            UnknownProtocol\n",
      "            UnknownTransferEncoding\n",
      "            UnimplementedFileMode\n",
      "            IncompleteRead\n",
      "            ImproperConnectionState\n",
      "                CannotSendRequest\n",
      "                CannotSendHeader\n",
      "                ResponseNotReady\n",
      "            BadStatusLine\n",
      "                RemoteDisconnected\n",
      "            LineTooLong\n",
      "        InteractivelyDefined\n",
      "        KillEmbedded\n",
      "        Error\n",
      "            NoSuchProcess\n",
      "                ZombieProcess\n",
      "            AccessDenied\n",
      "            TimeoutExpired\n",
      "        _Ipv6UnsupportedError\n",
      "        QueueEmpty\n",
      "        QueueFull\n",
      "        DebuggerInitializationError\n",
      "        ExpatError\n",
      "        Error\n",
      "            ProtocolError\n",
      "            ResponseError\n",
      "            Fault\n",
      "        ParseBaseException\n",
      "            ParseException\n",
      "            ParseFatalException\n",
      "                ParseSyntaxException\n",
      "        RecursiveGrammarException\n",
      "        ResolutionError\n",
      "            VersionConflict\n",
      "                ContextualVersionConflict\n",
      "            DistributionNotFound\n",
      "            UnknownExtra\n",
      "        _Error\n",
      "        UnableToResolveVariableException\n",
      "        InvalidTypeInArgsException\n",
      "    GeneratorExit\n",
      "    SystemExit\n",
      "    KeyboardInterrupt\n",
      "    CancelledError\n",
      "    AbortThread\n"
     ]
    }
   ],
   "source": [
    "import sys\n",
    "\n",
    "def print_exception_hierarchy(ex_class, indent=0):\n",
    "    print(' ' * indent + ex_class.__name__)\n",
    "    for sub_class in ex_class.__subclasses__():\n",
    "        print_exception_hierarchy(sub_class, indent + 4)\n",
    "\n",
    "print_exception_hierarchy(BaseException, indent=0)\n"
   ]
  },
  {
   "cell_type": "markdown",
   "id": "592f5e38-c158-4f00-9dfc-5960019997c1",
   "metadata": {},
   "source": [
    "## Answer 3"
   ]
  },
  {
   "cell_type": "markdown",
   "id": "39008bfa-af86-41ba-b866-73b8978690be",
   "metadata": {},
   "source": [
    "There are 3 Arithmetic Errors are in Python.\n",
    "1. ZeroDivisionError\n",
    "2. FloatingPointError\n",
    "3. OverflowError"
   ]
  },
  {
   "cell_type": "markdown",
   "id": "70381051-793f-4e27-b303-943a244e6bd8",
   "metadata": {},
   "source": [
    "#### Zero Division Error"
   ]
  },
  {
   "cell_type": "markdown",
   "id": "31b33262-7813-4d74-9741-ef7b3e3a64b2",
   "metadata": {},
   "source": [
    "In Mathematics, when a number is divided by a zero, the result is an infinite number. It is impossible to write an Infinite number physically. Python interpreter throws “ZeroDivisionError:"
   ]
  },
  {
   "cell_type": "code",
   "execution_count": 1,
   "id": "e6a109ba-877c-4048-bcae-9eb2fa455139",
   "metadata": {},
   "outputs": [
    {
     "name": "stdout",
     "output_type": "stream",
     "text": [
      "division by zero\n"
     ]
    }
   ],
   "source": [
    "# if we try dividing any number by zero it will end up giving zero division error.\n",
    "try:\n",
    "    a=5\n",
    "    a/0\n",
    "except ZeroDivisionError as e:\n",
    "    print(e)"
   ]
  },
  {
   "cell_type": "markdown",
   "id": "86897af3-7aae-4cea-b4ed-27daba963d8b",
   "metadata": {},
   "source": [
    "#### Floating Point Error"
   ]
  },
  {
   "cell_type": "markdown",
   "id": "ea10e412-29f7-473f-b3e3-9fa7a7ec9697",
   "metadata": {},
   "source": [
    "It's a problem caused when the internal representation of floating-point numbers, which uses a fixed number of binary digits to represent a decimal number. It is difficult to represent some decimal number in binary, so in many cases, it leads to small roundoff errors"
   ]
  },
  {
   "cell_type": "code",
   "execution_count": 2,
   "id": "e58852d1-143f-4406-87dc-cdd919eae092",
   "metadata": {},
   "outputs": [
    {
     "data": {
      "text/plain": [
       "0.8999999999999999"
      ]
     },
     "execution_count": 2,
     "metadata": {},
     "output_type": "execute_result"
    }
   ],
   "source": [
    "# in arithmatic addition 0.3 and 0.6 equals 0.9 \n",
    "a=0.3+0.6\n",
    "a"
   ]
  },
  {
   "cell_type": "markdown",
   "id": "1cb3f727-5566-4500-b317-59fc0be2b328",
   "metadata": {},
   "source": [
    "It's a problem caused when the internal representation of floating-point numbers, which uses a fixed number of binary digits to represent a decimal number. It is difficult to represent some decimal number in binary, so in many cases, it leads to small roundoff errors"
   ]
  },
  {
   "cell_type": "markdown",
   "id": "7bbde271-b12e-4c6a-b4db-202424ab4485",
   "metadata": {},
   "source": [
    "## Answer 4"
   ]
  },
  {
   "cell_type": "markdown",
   "id": "74d5dd0a-b278-4a15-809b-4befd7304ee5",
   "metadata": {},
   "source": [
    "The LookupError class is used as a base class for a group of exceptions that are raised when a specific key or index cannot be found in a sequence or mapping. The LookupError class itself is a subclass of the base Exception class.\n",
    "The LookupError class is not usually raised directly, but is used as a base class for more specific exception classes like IndexError and KeyError."
   ]
  },
  {
   "cell_type": "markdown",
   "id": "cd2888ab-0184-40fe-a18a-d16ac9099683",
   "metadata": {},
   "source": [
    "#### Key Error"
   ]
  },
  {
   "cell_type": "markdown",
   "id": "a7ad0761-afca-4b8f-956b-c1b9acb2b5bd",
   "metadata": {},
   "source": [
    "When the key is not found in a mapping, key error occurs at that time.\n",
    "In below eg. l is a dictionary and it has 1,2,3 and 4 as key, when 5 is asked as a key to return it's value, exception occurs and give key error."
   ]
  },
  {
   "cell_type": "code",
   "execution_count": 3,
   "id": "b4cfdd23-ca74-4886-a13d-a7fd4248e142",
   "metadata": {},
   "outputs": [
    {
     "name": "stdout",
     "output_type": "stream",
     "text": [
      "key value missing\n"
     ]
    }
   ],
   "source": [
    "try:\n",
    "    l={1:\"chris\",2:\"john\",3:\"stan\",4:\"mark\"}\n",
    "    l[5]\n",
    "except KeyError as e:\n",
    "    print(\"key value missing\")"
   ]
  },
  {
   "cell_type": "markdown",
   "id": "c4546ec3-8263-4f8a-86a6-65b8624fb293",
   "metadata": {},
   "source": [
    "#### Index Error"
   ]
  },
  {
   "cell_type": "markdown",
   "id": "b0e731e5-979f-4aec-a42f-4d646b8b812c",
   "metadata": {},
   "source": [
    "When the index is not found in a sequence, index error occurs at that time.\n",
    "In below eg. l is a dictionary and it has 1,2,3 and 4 as its element, when index postion 5 is asked to return it's value, exception occurs and give index error."
   ]
  },
  {
   "cell_type": "code",
   "execution_count": 4,
   "id": "9b1e5481-cec6-41e5-9946-f91d10d82502",
   "metadata": {},
   "outputs": [
    {
     "name": "stdout",
     "output_type": "stream",
     "text": [
      "Index value missing\n"
     ]
    }
   ],
   "source": [
    "try:\n",
    "    l=[1,2,3,4]\n",
    "    l[5]\n",
    "except IndexError as e:\n",
    "    print(\"Index value missing\")"
   ]
  },
  {
   "cell_type": "markdown",
   "id": "3e1d3514-6435-4b76-9fc3-b86c97720e5d",
   "metadata": {},
   "source": [
    "## Answer 5"
   ]
  },
  {
   "cell_type": "markdown",
   "id": "90af8518-9243-4fb5-84f5-d9ea99569553",
   "metadata": {},
   "source": [
    "__ImportError__ is a built-in Python exception that is raised when a module, package, or object cannot be imported. This can happen for several reasons, such as:\n",
    "\n",
    "The module or package does not exist\n",
    "\n",
    "\n",
    "The module or package is not on the Python path\n",
    "\n",
    "\n",
    "There is a syntax error in the module or package\n",
    "\n",
    "\n",
    "There is a circular import, where one module depends on another module that in turn depends on the first module"
   ]
  },
  {
   "cell_type": "code",
   "execution_count": 12,
   "id": "dcc05f4a-b123-4a23-97aa-401d17d3e499",
   "metadata": {},
   "outputs": [
    {
     "name": "stdout",
     "output_type": "stream",
     "text": [
      "No module named 'my_module'\n"
     ]
    }
   ],
   "source": [
    "try:\n",
    "    import my_module\n",
    "except ImportError as e:\n",
    "    print(e)"
   ]
  },
  {
   "cell_type": "markdown",
   "id": "722e2f9b-5c43-488a-89ed-b9f39bf48018",
   "metadata": {},
   "source": [
    "__ModuleNotFoundError__ is a built-in Python exception that is raised when a module, package, or object cannot be found during import. It is a subclass of ImportError, which is raised when an import statement fails for any reason.\n",
    "\n",
    "It is specifically raised when the module, package, or object that is being imported cannot be found at all, whereas ImportError can be raised for other reasons such as syntax errors or circular imports."
   ]
  },
  {
   "cell_type": "code",
   "execution_count": 13,
   "id": "6c007f2f-e49a-4908-9bc6-87e7e20ca795",
   "metadata": {},
   "outputs": [
    {
     "name": "stdout",
     "output_type": "stream",
     "text": [
      "caught ModuleNotFound error: No module named 'my_module'\n"
     ]
    }
   ],
   "source": [
    "try:\n",
    "    import my_module\n",
    "except ModuleNotFoundError as e:\n",
    "    print(f\"caught ModuleNotFound error: {e}\")"
   ]
  }
 ],
 "metadata": {
  "kernelspec": {
   "display_name": "Python 3 (ipykernel)",
   "language": "python",
   "name": "python3"
  },
  "language_info": {
   "codemirror_mode": {
    "name": "ipython",
    "version": 3
   },
   "file_extension": ".py",
   "mimetype": "text/x-python",
   "name": "python",
   "nbconvert_exporter": "python",
   "pygments_lexer": "ipython3",
   "version": "3.10.8"
  }
 },
 "nbformat": 4,
 "nbformat_minor": 5
}
