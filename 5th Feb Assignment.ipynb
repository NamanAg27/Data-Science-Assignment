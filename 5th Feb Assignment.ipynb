{
 "cells": [
  {
   "cell_type": "markdown",
   "id": "f2f755e9-df4f-44f1-a59e-a646017a85ef",
   "metadata": {},
   "source": [
    "## Answer 1"
   ]
  },
  {
   "cell_type": "markdown",
   "id": "76538d39-ef16-4475-8595-0706774e73a4",
   "metadata": {},
   "source": [
    "Python is an object oriented programming language. Almost everything in Python is an object, with its properties and methods. A Class is like an object constructor, or a \"blueprint\" for creating objects."
   ]
  },
  {
   "cell_type": "markdown",
   "id": "f80f4e1d-5993-4ad9-a4b6-3a57ef3904c7",
   "metadata": {},
   "source": [
    "#### For example, \n",
    "an integer variable is a member of the integer class. An object is a physical entity"
   ]
  },
  {
   "cell_type": "code",
   "execution_count": 1,
   "id": "aa38d419-6f12-40d6-bd73-156c60422359",
   "metadata": {},
   "outputs": [],
   "source": [
    "class MyClass:\n",
    "    n = 5"
   ]
  },
  {
   "cell_type": "markdown",
   "id": "432a2cda-3b27-42af-bc4b-e9660f6c74c5",
   "metadata": {},
   "source": [
    "## Answer 2"
   ]
  },
  {
   "cell_type": "markdown",
   "id": "a7466e7c-0b99-4fe0-a0d1-6c1b612c8c9d",
   "metadata": {},
   "source": [
    "Inheritance, Polymorphism, Encapsulation and Abstraction"
   ]
  },
  {
   "cell_type": "markdown",
   "id": "52b986f5-0e6d-45f2-9664-bf894d5a8356",
   "metadata": {},
   "source": [
    "## Answer 3"
   ]
  },
  {
   "cell_type": "markdown",
   "id": "f00d7a82-d5f2-4736-8061-57529bc720a3",
   "metadata": {},
   "source": [
    "\"__init__\" is a reseved method in python classes. It is called as a constructor in object oriented terminology. This method is called when an object is created from a class and it allows the class to initialize the attributes of the class"
   ]
  },
  {
   "cell_type": "code",
   "execution_count": 9,
   "id": "5634d4b4-dfb0-43a9-a4b6-b6d781c545af",
   "metadata": {},
   "outputs": [],
   "source": [
    "## Example of __init__\n",
    "## create a class\n",
    "\n",
    "class Dog:\n",
    "    def __init__(self,dogBreed,dogEyeColor):\n",
    "        \n",
    "        self.breed = dogBreed       \n",
    "        self.eyeColor = dogEyeColor\n",
    "    \n",
    "    def Dogdetails():\n",
    "        return self.breed, self.eyeColor\n",
    "        "
   ]
  },
  {
   "cell_type": "code",
   "execution_count": 10,
   "id": "96679df4-4e4d-4d88-b9cb-2736b7b63518",
   "metadata": {},
   "outputs": [],
   "source": [
    "## create a object\n",
    "\n",
    "Tomita = Dog(\"Fox Terrier\",\"brown\")"
   ]
  },
  {
   "cell_type": "code",
   "execution_count": 11,
   "id": "3006093e-77f5-467a-9ccb-23f17e24d3e6",
   "metadata": {},
   "outputs": [
    {
     "data": {
      "text/plain": [
       "'Fox Terrier'"
      ]
     },
     "execution_count": 11,
     "metadata": {},
     "output_type": "execute_result"
    }
   ],
   "source": [
    "Tomita.breed"
   ]
  },
  {
   "cell_type": "code",
   "execution_count": 12,
   "id": "3382ec40-2485-442b-afce-6788f94af22e",
   "metadata": {},
   "outputs": [
    {
     "data": {
      "text/plain": [
       "'brown'"
      ]
     },
     "execution_count": 12,
     "metadata": {},
     "output_type": "execute_result"
    }
   ],
   "source": [
    "Tomita.eyeColor"
   ]
  },
  {
   "cell_type": "markdown",
   "id": "2ccbdb58-48ca-49fc-a5bb-918583a6b85f",
   "metadata": {},
   "source": [
    "## Answer 4"
   ]
  },
  {
   "cell_type": "markdown",
   "id": "c3bd313a-5b8a-4547-b550-c22298949515",
   "metadata": {},
   "source": [
    "The self variable is used to represent the instance of the class which is often used in object-oriented programming. It works as a reference to the object. Python uses the self parameter to refer to instance attributes and methods of the class"
   ]
  },
  {
   "cell_type": "markdown",
   "id": "f144d4b7-b603-4b38-8590-43aa0487883f",
   "metadata": {},
   "source": [
    "## Answer 5"
   ]
  },
  {
   "cell_type": "markdown",
   "id": "6ee97e2b-dd3a-42fa-b071-17fd7aaaf721",
   "metadata": {},
   "source": [
    "Inheritance relationship defines the classes that inherit from other classes as derived, subclass, or sub-type classes. Base class remains to be the source from which a subclass inherits."
   ]
  },
  {
   "cell_type": "markdown",
   "id": "6322299d-11cb-46c5-9922-528b55cea780",
   "metadata": {},
   "source": [
    "For example, you have a Base class of “Car,” and a “Breeza” is a Derived class. The inheritance will be Breeza is a Car"
   ]
  },
  {
   "cell_type": "code",
   "execution_count": null,
   "id": "7c02b00a-de6e-4c5c-aa7f-f1289c69650a",
   "metadata": {},
   "outputs": [],
   "source": []
  }
 ],
 "metadata": {
  "kernelspec": {
   "display_name": "Python 3 (ipykernel)",
   "language": "python",
   "name": "python3"
  },
  "language_info": {
   "codemirror_mode": {
    "name": "ipython",
    "version": 3
   },
   "file_extension": ".py",
   "mimetype": "text/x-python",
   "name": "python",
   "nbconvert_exporter": "python",
   "pygments_lexer": "ipython3",
   "version": "3.10.8"
  }
 },
 "nbformat": 4,
 "nbformat_minor": 5
}
