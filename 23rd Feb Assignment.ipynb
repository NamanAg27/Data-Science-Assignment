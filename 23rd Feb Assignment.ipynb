{
 "cells": [
  {
   "cell_type": "markdown",
   "id": "df6321cd-25fb-48a0-8a99-d850a78c5036",
   "metadata": {},
   "source": [
    "### Q1. Create a Pandas Series that contains the following data: 4, 8, 15, 16, 23, and 42. Then, print the series."
   ]
  },
  {
   "cell_type": "code",
   "execution_count": 1,
   "id": "6d4829c9-ab8f-4485-9c95-90ee954493ed",
   "metadata": {},
   "outputs": [],
   "source": [
    "import pandas as pd"
   ]
  },
  {
   "cell_type": "code",
   "execution_count": 2,
   "id": "417d6f1c-0ff1-48d9-82bd-6f8c11952736",
   "metadata": {},
   "outputs": [
    {
     "data": {
      "text/plain": [
       "0     4\n",
       "1     8\n",
       "2    15\n",
       "3    16\n",
       "4    23\n",
       "5    42\n",
       "dtype: int64"
      ]
     },
     "execution_count": 2,
     "metadata": {},
     "output_type": "execute_result"
    }
   ],
   "source": [
    "ser=[4,8,15,16,23,42]\n",
    "pd.Series(ser)"
   ]
  },
  {
   "cell_type": "markdown",
   "id": "8057adb8-0115-4206-922d-ab22a6b4b9ef",
   "metadata": {},
   "source": [
    "### Q2. Create a variable of list type containing 10 elements in it, and apply pandas.Series function on the variable print it."
   ]
  },
  {
   "cell_type": "code",
   "execution_count": 3,
   "id": "94d7d0bc-895c-48be-ad21-5dc771b94e59",
   "metadata": {},
   "outputs": [
    {
     "data": {
      "text/plain": [
       "0    1\n",
       "1    2\n",
       "2    3\n",
       "3    a\n",
       "4    b\n",
       "5    c\n",
       "6    4\n",
       "7    5\n",
       "8    6\n",
       "9    d\n",
       "dtype: object"
      ]
     },
     "execution_count": 3,
     "metadata": {},
     "output_type": "execute_result"
    }
   ],
   "source": [
    "var = [1,2,3,'a','b','c',4,5,6,'d']\n",
    "pd.Series(var)"
   ]
  },
  {
   "cell_type": "markdown",
   "id": "0082fe27-54f7-472b-ac06-c63282c83e8f",
   "metadata": {},
   "source": [
    "### Q3. Create a Pandas DataFrame that contains the following data:"
   ]
  },
  {
   "cell_type": "code",
   "execution_count": 4,
   "id": "3ad9a621-f9f1-4aca-845e-fadf67a2b686",
   "metadata": {},
   "outputs": [
    {
     "data": {
      "text/html": [
       "<div>\n",
       "<style scoped>\n",
       "    .dataframe tbody tr th:only-of-type {\n",
       "        vertical-align: middle;\n",
       "    }\n",
       "\n",
       "    .dataframe tbody tr th {\n",
       "        vertical-align: top;\n",
       "    }\n",
       "\n",
       "    .dataframe thead th {\n",
       "        text-align: right;\n",
       "    }\n",
       "</style>\n",
       "<table border=\"1\" class=\"dataframe\">\n",
       "  <thead>\n",
       "    <tr style=\"text-align: right;\">\n",
       "      <th></th>\n",
       "      <th>Name</th>\n",
       "      <th>Age</th>\n",
       "      <th>Gender</th>\n",
       "    </tr>\n",
       "  </thead>\n",
       "  <tbody>\n",
       "    <tr>\n",
       "      <th>0</th>\n",
       "      <td>Alice</td>\n",
       "      <td>25</td>\n",
       "      <td>Female</td>\n",
       "    </tr>\n",
       "    <tr>\n",
       "      <th>1</th>\n",
       "      <td>Bob</td>\n",
       "      <td>30</td>\n",
       "      <td>Male</td>\n",
       "    </tr>\n",
       "    <tr>\n",
       "      <th>2</th>\n",
       "      <td>Claire</td>\n",
       "      <td>27</td>\n",
       "      <td>Female</td>\n",
       "    </tr>\n",
       "  </tbody>\n",
       "</table>\n",
       "</div>"
      ],
      "text/plain": [
       "     Name  Age  Gender\n",
       "0   Alice   25  Female\n",
       "1     Bob   30    Male\n",
       "2  Claire   27  Female"
      ]
     },
     "execution_count": 4,
     "metadata": {},
     "output_type": "execute_result"
    }
   ],
   "source": [
    "data = {\"Name\":[\"Alice\",\"Bob\",\"Claire\"],\"Age\":[25,30,27],\"Gender\":[\"Female\",\"Male\",\"Female\"]}\n",
    "\n",
    "pd.DataFrame(data)"
   ]
  },
  {
   "cell_type": "markdown",
   "id": "c9d9f190-fe64-4a97-a0ed-5e7f0d081d6d",
   "metadata": {},
   "source": [
    "### Q4. What is ‘DataFrame’ in pandas and how is it different from pandas.series? Explain with an example."
   ]
  },
  {
   "cell_type": "markdown",
   "id": "162ed61e-73b4-43dc-8d24-137b9bb50927",
   "metadata": {},
   "source": [
    "A DataFrame in pandas is a two-dimensional, size-mutable, tabular data structure with columns of potentially different data types. It is similar to a spreadsheet or SQL table, or a dict of Series objects. In a DataFrame, each column is represented by a Series.\n",
    "\n",
    "The main difference between a DataFrame and a Series is that a Series represents a single column of data, while a DataFrame represents a table of data with rows and columns. A DataFrame allows for more complex data analysis and manipulation compared to a Series."
   ]
  },
  {
   "cell_type": "code",
   "execution_count": 6,
   "id": "5e85b6b1-e61b-4dff-bf7a-8abcea5cf360",
   "metadata": {},
   "outputs": [
    {
     "name": "stdout",
     "output_type": "stream",
     "text": [
      "0    1\n",
      "1    2\n",
      "2    3\n",
      "3    4\n",
      "4    5\n",
      "dtype: int64\n"
     ]
    }
   ],
   "source": [
    "import pandas as pd\n",
    "\n",
    "# Create a Pandas Series\n",
    "my_series = pd.Series([1, 2, 3, 4, 5])\n",
    "print(my_series)"
   ]
  },
  {
   "cell_type": "code",
   "execution_count": 14,
   "id": "9eebe178-242a-4f83-afa0-328f0cd28b3c",
   "metadata": {},
   "outputs": [
    {
     "data": {
      "text/html": [
       "<div>\n",
       "<style scoped>\n",
       "    .dataframe tbody tr th:only-of-type {\n",
       "        vertical-align: middle;\n",
       "    }\n",
       "\n",
       "    .dataframe tbody tr th {\n",
       "        vertical-align: top;\n",
       "    }\n",
       "\n",
       "    .dataframe thead th {\n",
       "        text-align: right;\n",
       "    }\n",
       "</style>\n",
       "<table border=\"1\" class=\"dataframe\">\n",
       "  <thead>\n",
       "    <tr style=\"text-align: right;\">\n",
       "      <th></th>\n",
       "      <th>Name</th>\n",
       "      <th>Age</th>\n",
       "      <th>Gender</th>\n",
       "    </tr>\n",
       "  </thead>\n",
       "  <tbody>\n",
       "    <tr>\n",
       "      <th>0</th>\n",
       "      <td>Alice</td>\n",
       "      <td>25</td>\n",
       "      <td>Female</td>\n",
       "    </tr>\n",
       "    <tr>\n",
       "      <th>1</th>\n",
       "      <td>Bob</td>\n",
       "      <td>30</td>\n",
       "      <td>Male</td>\n",
       "    </tr>\n",
       "    <tr>\n",
       "      <th>2</th>\n",
       "      <td>Claire</td>\n",
       "      <td>27</td>\n",
       "      <td>Female</td>\n",
       "    </tr>\n",
       "  </tbody>\n",
       "</table>\n",
       "</div>"
      ],
      "text/plain": [
       "     Name  Age  Gender\n",
       "0   Alice   25  Female\n",
       "1     Bob   30    Male\n",
       "2  Claire   27  Female"
      ]
     },
     "execution_count": 14,
     "metadata": {},
     "output_type": "execute_result"
    }
   ],
   "source": [
    "# Create a Pandas DataFrame\n",
    "data1 = {\"Name\":[\"Alice\",\"Bob\",\"Claire\"],\"Age\":[25,30,27],\"Gender\":[\"Female\",\"Male\",\"Female\"]}\n",
    "pd.DataFrame(data1)\n"
   ]
  },
  {
   "cell_type": "markdown",
   "id": "35c06dc3-1598-40ca-8564-dd74a895555d",
   "metadata": {},
   "source": [
    "In this example, we created a Series called my_series with 5 elements. We then created a DataFrame called df with 3 columns: name, age, and gender. Each column is a Series object, with the name column containing strings, the age column containing integers, and the gender column containing strings. We printed both the Series and the DataFrame to illustrate the difference between the two."
   ]
  },
  {
   "cell_type": "markdown",
   "id": "ee4dca78-a681-49fc-9dca-31dacb939af4",
   "metadata": {},
   "source": [
    "### Q5. What are some common functions you can use to manipulate data in a Pandas DataFrame? Can you give an example of when you might use one of these functions?"
   ]
  },
  {
   "cell_type": "markdown",
   "id": "079c2a8f-48fb-4302-a65d-d157271de050",
   "metadata": {},
   "source": [
    "There are many common functions available in Pandas DataFrame that can be used to manipulate data. Some of these functions are:\n",
    "\n",
    "1. head() and tail(): Used to display the top or bottom n rows of the DataFrame. For example, df.head() will display the first 5 rows of the DataFrame df.\n",
    "\n",
    "2. describe(): Used to get the summary statistics of the DataFrame. For example, df.describe() will display the count, mean, standard deviation, minimum, maximum, and quartile values of the DataFrame df.\n",
    "\n",
    "3. drop(): Used to remove specified rows or columns from the DataFrame. For example, df.drop([0, 1], axis=0) will remove the first and second rows from the DataFrame df.\n",
    "\n",
    "4. groupby(): Used to group the data based on one or more columns and perform aggregation on the groups. For example, df.groupby(['column1']).sum() will group the DataFrame df based on the values in column1 and return the sum of the remaining columns for each group.\n",
    "\n",
    "5. sort_values(): Used to sort the DataFrame based on one or more columns. For example, df.sort_values(['column1'], ascending=False) will sort the DataFrame df based on the values in column1 in descending order.\n",
    "\n",
    "6. fillna(): Used to fill missing values in the DataFrame with a specified value or method. For example, df.fillna(0) will fill all the missing values in the DataFrame df with 0.\n",
    "\n",
    "7. merge(): Used to merge two or more DataFrames based on one or more common columns. For example, pd.merge(df1, df2, on='column1') will merge the DataFrames df1 and df2 based on the common column1.\n",
    "\n",
    "One example of using these functions is in data cleaning and preparation. For instance, you may want to remove rows or columns with missing values using drop() or fillna(), sort the DataFrame based on a certain column to better understand the data using sort_values(), group the data based on certain criteria to aggregate information using groupby(), and merge multiple DataFrames to create a comprehensive dataset using merge()."
   ]
  },
  {
   "cell_type": "markdown",
   "id": "f55b008e-013d-4e9b-b4db-3646c19a1166",
   "metadata": {},
   "source": [
    "### Q6. Which of the following is mutable in nature Series, DataFrame, Panel?"
   ]
  },
  {
   "cell_type": "markdown",
   "id": "cb40689b-d40d-4ab0-accd-3bdd0c3ffd13",
   "metadata": {},
   "source": [
    "Series and DataFrame are mutable in nature. Panel is deprecated in the latest version of Pandas and is not recommended for use."
   ]
  },
  {
   "cell_type": "markdown",
   "id": "fa59dd8c-1ff9-478e-9336-8b4ae70b13ad",
   "metadata": {},
   "source": [
    "### Q7. Create a DataFrame using multiple Series. Explain with an example."
   ]
  },
  {
   "cell_type": "code",
   "execution_count": 13,
   "id": "e5bc350f-d6b5-4bae-88d4-88d814675768",
   "metadata": {},
   "outputs": [
    {
     "data": {
      "text/html": [
       "<div>\n",
       "<style scoped>\n",
       "    .dataframe tbody tr th:only-of-type {\n",
       "        vertical-align: middle;\n",
       "    }\n",
       "\n",
       "    .dataframe tbody tr th {\n",
       "        vertical-align: top;\n",
       "    }\n",
       "\n",
       "    .dataframe thead th {\n",
       "        text-align: right;\n",
       "    }\n",
       "</style>\n",
       "<table border=\"1\" class=\"dataframe\">\n",
       "  <thead>\n",
       "    <tr style=\"text-align: right;\">\n",
       "      <th></th>\n",
       "      <th>Name</th>\n",
       "      <th>Age</th>\n",
       "    </tr>\n",
       "  </thead>\n",
       "  <tbody>\n",
       "    <tr>\n",
       "      <th>0</th>\n",
       "      <td>Alice</td>\n",
       "      <td>25</td>\n",
       "    </tr>\n",
       "    <tr>\n",
       "      <th>1</th>\n",
       "      <td>Bob</td>\n",
       "      <td>30</td>\n",
       "    </tr>\n",
       "    <tr>\n",
       "      <th>2</th>\n",
       "      <td>Charlie</td>\n",
       "      <td>35</td>\n",
       "    </tr>\n",
       "    <tr>\n",
       "      <th>3</th>\n",
       "      <td>David</td>\n",
       "      <td>40</td>\n",
       "    </tr>\n",
       "  </tbody>\n",
       "</table>\n",
       "</div>"
      ],
      "text/plain": [
       "      Name  Age\n",
       "0    Alice   25\n",
       "1      Bob   30\n",
       "2  Charlie   35\n",
       "3    David   40"
      ]
     },
     "execution_count": 13,
     "metadata": {},
     "output_type": "execute_result"
    }
   ],
   "source": [
    "names = pd.Series(['Alice', 'Bob', 'Charlie', 'David'])\n",
    "ages = pd.Series([25, 30, 35, 40])\n",
    "\n",
    "data = {'Name': names, 'Age': ages}\n",
    "\n",
    "pd.DataFrame(data)\n",
    "\n"
   ]
  },
  {
   "cell_type": "code",
   "execution_count": null,
   "id": "1f8d32ba-4cf1-4eaa-92d2-ad32562dafba",
   "metadata": {},
   "outputs": [],
   "source": []
  }
 ],
 "metadata": {
  "kernelspec": {
   "display_name": "Python 3 (ipykernel)",
   "language": "python",
   "name": "python3"
  },
  "language_info": {
   "codemirror_mode": {
    "name": "ipython",
    "version": 3
   },
   "file_extension": ".py",
   "mimetype": "text/x-python",
   "name": "python",
   "nbconvert_exporter": "python",
   "pygments_lexer": "ipython3",
   "version": "3.10.8"
  }
 },
 "nbformat": 4,
 "nbformat_minor": 5
}
